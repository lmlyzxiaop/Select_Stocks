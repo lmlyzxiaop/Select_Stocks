{
 "cells": [
  {
   "cell_type": "code",
   "execution_count": 3,
   "metadata": {
    "collapsed": false
   },
   "outputs": [
    {
     "name": "stderr",
     "output_type": "stream",
     "text": [
      "E:\\Anaconda\\lib\\site-packages\\statsmodels\\compat\\pandas.py:56: FutureWarning: The pandas.core.datetools module is deprecated and will be removed in a future version. Please use the pandas.tseries module instead.\n",
      "  from pandas.core import datetools\n"
     ]
    }
   ],
   "source": [
    "import tushare as ts\n",
    "import pandas as pd\n",
    "import numpy as np\n",
    "import statsmodels.api as sm\n",
    "from statsmodels import regression\n",
    "import ffn\n",
    "from sklearn.svm import SVR\n",
    "import matplotlib.pyplot as plt\n",
    "from collections import defaultdict\n",
    "import os"
   ]
  },
  {
   "cell_type": "code",
   "execution_count": 4,
   "metadata": {
    "collapsed": true
   },
   "outputs": [],
   "source": [
    "class Model:\n",
    "    \n",
    "    #初始化参数\n",
    "    def __init__(self, data, train_start, train_end, test_start, test_end, n):\n",
    "        \n",
    "        self.code = data['code']\n",
    "        self.train_start = train_start\n",
    "        self.train_end = train_end\n",
    "        self.test_start = test_start\n",
    "        self.test_end = test_end\n",
    "        self.n = n\n",
    "        \n",
    "    #获取单只股票初始训练集和测试集\n",
    "    def getInitData(self, code):\n",
    "        \n",
    "        train_start = self.train_start\n",
    "        train_end = self.train_end\n",
    "        \n",
    "        test_start = self.test_start\n",
    "        test_end = self.test_end\n",
    "        \n",
    "        train_data = ts.get_hist_data(code, start = train_start, end = train_end)\n",
    "        test_data = ts.get_hist_data(code, start = test_start, end = test_end)\n",
    "\n",
    "        train_data = train_data.loc[:,['open','high','close','low','price_change','p_change','turnover']]\n",
    "        test_data = test_data.loc[:,['open','high','close','low','price_change','p_change','turnover']]\n",
    "        \n",
    "        return train_data, test_data\n",
    "    \n",
    "    #训练和预测股票的N期收益\n",
    "    def train(self):\n",
    "        #使用scikit-learn导入SVR进行训练和预测\n",
    "        x_train = []\n",
    "        y_label = []\n",
    "        x_test = []\n",
    "        \n",
    "        for code in self.code:\n",
    "            train_data, test_data = self.getInitData(code)\n",
    "            \n",
    "            #计算特征\n",
    "            '''\n",
    "            以后特征的计算，写在feature的class里即可\n",
    "            '''\n",
    "            feature = Feature(train_data, test_data, self.n)\n",
    "            \n",
    "            \n",
    "            train_data, test_data = feature.cal_mean()\n",
    "            train_data = feature.cal_nReturn(train_data)\n",
    "\n",
    "            svr_rbf = SVR(kernel = 'rbf', C = 1e3, gamma = 0.1)\n",
    "            X = train_data.iloc[:,-9:-2]\n",
    "            X1 = test_data.iloc[:,-8:-1]\n",
    "            y = train_data.iloc[:,-1:]\n",
    "            for i in range(len(X)):\n",
    "                x_train.append(list(X.iloc[i]))\n",
    "            for i in range(len(y)):\n",
    "                y_label.append(list(y.iloc[i]))\n",
    "            for i in range(len(X1)):    \n",
    "                x_test.append(list(X1.iloc[i]))\n",
    "\n",
    "        y_rbf = svr_rbf.fit(x_train,y_label).predict(x_test)\n",
    "        \n",
    "        return y_rbf\n",
    "\n",
    "    #得到预期代码\n",
    "\n",
    "#     def getCode():\n",
    "        \n",
    "#         return \n",
    "        "
   ]
  },
  {
   "cell_type": "code",
   "execution_count": 5,
   "metadata": {
    "collapsed": false
   },
   "outputs": [],
   "source": [
    "class Feature:\n",
    "    \n",
    "    def __init__(self, train_data, test_data, n):\n",
    "        self.train_data = train_data\n",
    "        self.test_data = test_data\n",
    "        self.n = n\n",
    "        \n",
    "    #计算开盘到收盘之间的价格均值\n",
    "    def cal_mean(self):\n",
    "        train_data = self.train_data\n",
    "        test_data = self.test_data\n",
    "        \n",
    "        first_data_open = train_data.loc[:,['open']]\n",
    "        first_data_close = train_data.loc[:,['close']]\n",
    "\n",
    "        second_data_open = test_data.loc[:,['open']]\n",
    "        second_data_close = test_data.loc[:,['close']]\n",
    "\n",
    "        first_data_open.rename(columns = {'open':'mean'},inplace=True)\n",
    "        first_data_close.rename(columns = {'close':'mean'},inplace=True)\n",
    "        first_data_mean = (first_data_close + first_data_open)/2\n",
    "\n",
    "        second_data_open.rename(columns = {'open':'mean'},inplace=True)\n",
    "        second_data_close.rename(columns = {'close':'mean'},inplace=True)\n",
    "        second_data_mean = (second_data_close + second_data_open)/2\n",
    "\n",
    "        train_data['mean'] = first_data_mean\n",
    "        test_data['mean'] = second_data_mean\n",
    "        \n",
    "        return train_data,test_data\n",
    "    \n",
    "    #计算N期收益\n",
    "    def cal_nReturn(self, train_data):\n",
    "        n = self.n\n",
    "        #训练集的N期平均收益率\n",
    "        origin_mean = train_data.loc[:,['mean']]\n",
    "        origin_mean_n = origin_mean.shift(n)\n",
    "        train_simpleret = (origin_mean - origin_mean_n) / origin_mean_n\n",
    "        train_data['n_simpleret'] = train_simpleret\n",
    "        #填充缺失的值\n",
    "        train_data = train_data.fillna(method='bfill')\n",
    "        \n",
    "        return train_data\n",
    "    "
   ]
  },
  {
   "cell_type": "code",
   "execution_count": 6,
   "metadata": {
    "collapsed": true
   },
   "outputs": [],
   "source": [
    "class Season_Feature:\n",
    "    \n",
    "    def __init__(self,year,season):\n",
    "        self.year = year\n",
    "        self.season = season\n",
    "    \n",
    "    \n",
    "    \n",
    "        \n",
    "    #基本面数据的处理\n",
    "    #\n",
    "    #将基本面数据中的中文名称hash\n",
    "    def name_to_code(name,data):\n",
    "        d = defaultdict(list)\n",
    "        real_name = []\n",
    "        num = 0\n",
    "        for i in name:\n",
    "            if (not len(d[i])):\n",
    "                d[i].append(num)\n",
    "                num+=1\n",
    "            real_name.append(d[i][0])\n",
    "        text = str(num)\n",
    "        return real_name\n",
    "    \n",
    "    #change_name 默认为基本面数据的列名，可以根据需要修改\n",
    "    def need_change(data,change_name = ['name','industry','area']):\n",
    "        for i in change_name:\n",
    "            name = data[i]\n",
    "            real_name = name_to_code(name,data)\n",
    "            del data[i]\n",
    "            data[i] = real_name\n",
    "        return data\n",
    "    \n",
    "    #获取2017年第二季度的基本面数据\n",
    "    def get_basic(self):\n",
    "        year = self.year\n",
    "        season = self.season\n",
    "        \n",
    "        base = ts.get_stock_basics()\n",
    "        #获取2017年第2季度的业绩报表数据\n",
    "        table1 = ts.get_report_data(year,season)\n",
    "        #获取 2017年第二季度的盈利能力数据\n",
    "        table2 = ts.get_profit_data(year,season)\n",
    "        #获取2017年第2季度的营运能力数据\n",
    "        table3 = ts.get_operation_data(year,season)\n",
    "        #获取2017年第2季度的成长能力数据\n",
    "        table4 = ts.get_growth_data(year,season)\n",
    "        #获取2017年第2季度的偿债能力数据\n",
    "        table5 = ts.get_debtpaying_data(year,season)\n",
    "        #获取2017年第2季度的现金流量数据\n",
    "        table6 = ts.get_cashflow_data(year,season)\n",
    "        \n",
    "        return base,table1,table2,table3,table4,table5,table6\n",
    "    \n",
    "    #将基本面的后6个表按 code，name 和并\n",
    "    def merge_basic(self):\n",
    "        year = self.year\n",
    "        season = self.season\n",
    "        \n",
    "        base,table1,table2,table3,table4,table5,table6 = self.get_basic()\n",
    "        #合并后6个表的数据\n",
    "        result = pd.merge(table1,table2,on=['code','name'])\n",
    "        result = pd.merge(result,table3,on=['code','name'])\n",
    "        result = pd.merge(result,table4,on=['code','name'])\n",
    "        result = pd.merge(result,table5,on=['code','name'])\n",
    "        result = pd.merge(result,table6,on=['code','name'])\n",
    "        #result = result.set_index('code')\n",
    "        #合并前两个表的数据\n",
    "        \n",
    "        return result\n"
   ]
  },
  {
   "cell_type": "code",
   "execution_count": 7,
   "metadata": {
    "collapsed": false
   },
   "outputs": [
    {
     "name": "stderr",
     "output_type": "stream",
     "text": [
      "E:\\Anaconda\\lib\\site-packages\\sklearn\\utils\\validation.py:547: DataConversionWarning: A column-vector y was passed when a 1d array was expected. Please change the shape of y to (n_samples, ), for example using ravel().\n",
      "  y = column_or_1d(y, warn=True)\n"
     ]
    },
    {
     "name": "stdout",
     "output_type": "stream",
     "text": [
      "[-0.01226435  0.00128179  0.00536256 ...,  0.05089279  0.04711263\n",
      "  0.04966329]\n"
     ]
    }
   ],
   "source": [
    "#主函数\n",
    "model = Model(ts.get_sz50s(), '2017-03-01', '2017-06-30', '2017-07-01', '2017-08-31', 15)\n",
    "\n",
    "print (model.train())"
   ]
  },
  {
   "cell_type": "code",
   "execution_count": 8,
   "metadata": {
    "collapsed": false
   },
   "outputs": [
    {
     "data": {
      "text/plain": [
       "\"\\nseason2 = Season_Feature(2017,2)\\nseason2 = season2.merge_basic()\\nseason2 = season2.drop('name',1)\\nseason2.to_csv('2017_season2.csv',sep='\\t',na_rep='NaN',encoding='UTF-8')\\n\""
      ]
     },
     "execution_count": 8,
     "metadata": {},
     "output_type": "execute_result"
    }
   ],
   "source": [
    "'''\n",
    "season2 = Season_Feature(2017,2)\n",
    "season2 = season2.merge_basic()\n",
    "season2 = season2.drop('name',1)\n",
    "season2.to_csv('2017_season2.csv',sep='\\t',na_rep='NaN',encoding='UTF-8')\n",
    "'''\n"
   ]
  },
  {
   "cell_type": "code",
   "execution_count": 9,
   "metadata": {
    "collapsed": false
   },
   "outputs": [
    {
     "data": {
      "text/plain": [
       "\"\\nseason1 = Season_Feature(2017,1)\\nseason1 = season1.merge_basic()\\nseason1 = season1.drop('name',1)\\n#season1 = season1.set_index('code')\\nseason1.to_csv('2017_season1.csv',sep='\\t',na_rep='NaN',encoding='UTF-8')\\n\""
      ]
     },
     "execution_count": 9,
     "metadata": {},
     "output_type": "execute_result"
    }
   ],
   "source": [
    "'''\n",
    "season1 = Season_Feature(2017,1)\n",
    "season1 = season1.merge_basic()\n",
    "season1 = season1.drop('name',1)\n",
    "#season1 = season1.set_index('code')\n",
    "season1.to_csv('2017_season1.csv',sep='\\t',na_rep='NaN',encoding='UTF-8')\n",
    "'''"
   ]
  },
  {
   "cell_type": "code",
   "execution_count": 10,
   "metadata": {
    "collapsed": false
   },
   "outputs": [],
   "source": [
    "#load data\n",
    "season1 = pd.read_csv('2017_season1.csv',sep='\\t',index_col=0)\n",
    "season2 = pd.read_csv('2017_season2.csv',sep='\\t',index_col=0)"
   ]
  },
  {
   "cell_type": "code",
   "execution_count": 11,
   "metadata": {
    "collapsed": false
   },
   "outputs": [],
   "source": [
    "#获取两个季度股票代码\n",
    "def get_season_codes(season1,season2):\n",
    "    season1_codes = season1['code']\n",
    "    season2_codes = season2['code']\n",
    "    season1_codes = list(set(season1_codes))\n",
    "    season2_codes = list(set(season2_codes))\n",
    "    return season1_codes,season2_codes"
   ]
  },
  {
   "cell_type": "code",
   "execution_count": 12,
   "metadata": {
    "collapsed": false
   },
   "outputs": [],
   "source": [
    "season1_codes,season2_codes = get_season_codes(season1,season2)"
   ]
  },
  {
   "cell_type": "code",
   "execution_count": null,
   "metadata": {
    "collapsed": false
   },
   "outputs": [],
   "source": []
  },
  {
   "cell_type": "code",
   "execution_count": 14,
   "metadata": {
    "collapsed": false
   },
   "outputs": [],
   "source": [
    "#获取季度内股票的历史数据 返回的是股票代码和收益率的label\n",
    "def get_season_hist_data(season_codes,season_start='2017-01-01',season_end='2017-03-31'):\n",
    "    y_label = []\n",
    "    x_code = []\n",
    "    for code in season_codes:\n",
    "        stock = str(code)\n",
    "        if len(stock)<6:\n",
    "            continue\n",
    "        data = ts.get_hist_data(stock,start=season_start,end=season_end)\n",
    "        #需要考虑在当前季度中没有该股票的历史数据的情况\n",
    "        #没有数据无法进行计算，直接抛弃。\n",
    "      \n",
    "        if (type(data) == 'NoneType'):\n",
    "            continue\n",
    "        elif data.empty == True:\n",
    "            continue\n",
    "        else:\n",
    "            #获取需要计算收益的两列数据\n",
    "            data_open = data.open\n",
    "            data_open = list(data_open)\n",
    "            data_close = data.close\n",
    "            data_close = list(data_close)\n",
    "            # 获取季度有交易日区间\n",
    "            days = len(data.index.tolist())\n",
    "        \n",
    "            #找出收益率 >=15% 和 收益率 <= -5%的股票并给出对应的y_label\n",
    "            \n",
    "            ret_flag = 0 #收益率的标记 为0表示在该季度的交易日内没能达到要求\n",
    "            \n",
    "            for i in range(0,days):\n",
    "                for j in range(i+1,days):\n",
    "                #计算收益率\n",
    "                #只要在季度交易区间内达到了限制条件，就设置相应的label 在交易期间没达到就按照季初-季末算收益率\n",
    "                    ret = (data_close[j] - data_open[i]) / data_open[i]\n",
    "        \n",
    "                    if ret >= 0.15 :\n",
    "                        x_code.append(code)\n",
    "                        y_label.append(0.15) \n",
    "                        ret_flag = 1\n",
    "                        break\n",
    "                    elif ret <= -0.05:\n",
    "                        x_code.append(code)\n",
    "                        y_label.append(-0.05) \n",
    "                        ret_flag = 1\n",
    "                        break\n",
    "                if ret_flag == 1:\n",
    "                    break\n",
    "            #若没有达到要求，将label 设置成季初到季末的收益率\n",
    "            if ret_flag == 0:\n",
    "                x_code.append(code)\n",
    "                ret = (data_close[days-1]- data_open[0]) / data_open[0]\n",
    "                y_label.append(ret) \n",
    "               \n",
    "                   \n",
    "    return x_code,y_label\n",
    "            \n",
    "        \n",
    "        "
   ]
  },
  {
   "cell_type": "code",
   "execution_count": 15,
   "metadata": {
    "collapsed": false
   },
   "outputs": [],
   "source": [
    "x_code,y_label = get_season_hist_data(season1_codes,'2017-01-01','2017-03-31')"
   ]
  },
  {
   "cell_type": "code",
   "execution_count": null,
   "metadata": {
    "collapsed": false
   },
   "outputs": [],
   "source": [
    "len(x_code)"
   ]
  },
  {
   "cell_type": "code",
   "execution_count": null,
   "metadata": {
    "collapsed": false
   },
   "outputs": [],
   "source": [
    "x_code\n",
    "len(x_code)"
   ]
  },
  {
   "cell_type": "code",
   "execution_count": null,
   "metadata": {
    "collapsed": false
   },
   "outputs": [],
   "source": [
    "len(y_label)"
   ]
  },
  {
   "cell_type": "code",
   "execution_count": 16,
   "metadata": {
    "collapsed": true
   },
   "outputs": [],
   "source": [
    "def code_to_return(code,ret):\n",
    "    code_to_ret = {}\n",
    "    for i in range(len(code)):\n",
    "        code_to_ret[str(code[i])] = ret[i]\n",
    "    return code_to_ret\n",
    "                   "
   ]
  },
  {
   "cell_type": "code",
   "execution_count": 17,
   "metadata": {
    "collapsed": true
   },
   "outputs": [],
   "source": [
    "code2return = code_to_return(x_code,y_label)"
   ]
  },
  {
   "cell_type": "code",
   "execution_count": null,
   "metadata": {
    "collapsed": false
   },
   "outputs": [],
   "source": []
  },
  {
   "cell_type": "code",
   "execution_count": 18,
   "metadata": {
    "collapsed": false
   },
   "outputs": [],
   "source": [
    "def add_feature_to_csv(season_codes,code2return,data_start,data_end,op=1):\n",
    "    hist_feature = ['open','high','close','low','price_change','p_change','turnover']\n",
    "    if op == 1:\n",
    "        filename = 'train_data.csv'\n",
    "    \n",
    "        for stock in season_codes:\n",
    "            code = str(stock)\n",
    "\n",
    "            df = ts.get_hist_data(code,start=data_start,end=data_end)\n",
    "            df = df.loc[:,hist_feature]\n",
    "            ret = code2return.get(code)\n",
    "            y_label = []\n",
    "            for i in range(len(df.index.tolist())):\n",
    "                y_label.append(ret)\n",
    "            df['y'] = y_label\n",
    "            if os.path.exists(filename):\n",
    "                df.to_csv(filename, mode='a', header=None)\n",
    "            else:\n",
    "                df.to_csv(filename)\n",
    "    else:\n",
    "        filename = 'test_data.csv'\n",
    "        for stock in season_codes:\n",
    "            code = str(stock)\n",
    "            df = ts.get_hist_data(code,start=data_start,end=data_end)\n",
    "            df = df.loc[:,hist_feature]\n",
    "            if os.path.exists(filename):\n",
    "                df.to_csv(filename, mode='a', header=None)\n",
    "            else:\n",
    "                df.to_csv(filename)\n",
    "    "
   ]
  },
  {
   "cell_type": "code",
   "execution_count": 19,
   "metadata": {
    "collapsed": false
   },
   "outputs": [],
   "source": [
    "add_feature_to_csv(x_code,code2return,data_start='2017-01-01',data_end='2017-03-31',op=1)"
   ]
  },
  {
   "cell_type": "code",
   "execution_count": 20,
   "metadata": {
    "collapsed": false
   },
   "outputs": [],
   "source": [
    "add_feature_to_csv(x_code,code2return,data_start='2017-04-01',data_end='2017-07-31',op=2)"
   ]
  },
  {
   "cell_type": "code",
   "execution_count": 23,
   "metadata": {
    "collapsed": true
   },
   "outputs": [],
   "source": [
    "train_data = pd.read_csv('train_data.csv')\n",
    "test_data = pd.read_csv('test_data.csv')"
   ]
  },
  {
   "cell_type": "code",
   "execution_count": 24,
   "metadata": {
    "collapsed": false
   },
   "outputs": [],
   "source": [
    "y_label = train_data.iloc[:,-1]"
   ]
  },
  {
   "cell_type": "code",
   "execution_count": 27,
   "metadata": {
    "collapsed": false
   },
   "outputs": [],
   "source": [
    "train_data = train_data.iloc[:,-8:-2]"
   ]
  },
  {
   "cell_type": "code",
   "execution_count": 28,
   "metadata": {
    "collapsed": false
   },
   "outputs": [
    {
     "data": {
      "text/html": [
       "<div>\n",
       "<style>\n",
       "    .dataframe thead tr:only-child th {\n",
       "        text-align: right;\n",
       "    }\n",
       "\n",
       "    .dataframe thead th {\n",
       "        text-align: left;\n",
       "    }\n",
       "\n",
       "    .dataframe tbody tr th {\n",
       "        vertical-align: top;\n",
       "    }\n",
       "</style>\n",
       "<table border=\"1\" class=\"dataframe\">\n",
       "  <thead>\n",
       "    <tr style=\"text-align: right;\">\n",
       "      <th></th>\n",
       "      <th>open</th>\n",
       "      <th>high</th>\n",
       "      <th>close</th>\n",
       "      <th>low</th>\n",
       "      <th>price_change</th>\n",
       "      <th>p_change</th>\n",
       "    </tr>\n",
       "  </thead>\n",
       "  <tbody>\n",
       "    <tr>\n",
       "      <th>0</th>\n",
       "      <td>14.41</td>\n",
       "      <td>14.60</td>\n",
       "      <td>14.42</td>\n",
       "      <td>14.35</td>\n",
       "      <td>0.02</td>\n",
       "      <td>0.14</td>\n",
       "    </tr>\n",
       "    <tr>\n",
       "      <th>1</th>\n",
       "      <td>14.78</td>\n",
       "      <td>14.79</td>\n",
       "      <td>14.40</td>\n",
       "      <td>14.25</td>\n",
       "      <td>-0.39</td>\n",
       "      <td>-2.64</td>\n",
       "    </tr>\n",
       "    <tr>\n",
       "      <th>2</th>\n",
       "      <td>14.87</td>\n",
       "      <td>14.98</td>\n",
       "      <td>14.79</td>\n",
       "      <td>14.78</td>\n",
       "      <td>-0.11</td>\n",
       "      <td>-0.74</td>\n",
       "    </tr>\n",
       "    <tr>\n",
       "      <th>3</th>\n",
       "      <td>14.88</td>\n",
       "      <td>14.99</td>\n",
       "      <td>14.90</td>\n",
       "      <td>14.81</td>\n",
       "      <td>0.00</td>\n",
       "      <td>0.00</td>\n",
       "    </tr>\n",
       "    <tr>\n",
       "      <th>4</th>\n",
       "      <td>15.02</td>\n",
       "      <td>15.10</td>\n",
       "      <td>14.90</td>\n",
       "      <td>14.88</td>\n",
       "      <td>-0.19</td>\n",
       "      <td>-1.26</td>\n",
       "    </tr>\n",
       "  </tbody>\n",
       "</table>\n",
       "</div>"
      ],
      "text/plain": [
       "    open   high  close    low  price_change  p_change\n",
       "0  14.41  14.60  14.42  14.35          0.02      0.14\n",
       "1  14.78  14.79  14.40  14.25         -0.39     -2.64\n",
       "2  14.87  14.98  14.79  14.78         -0.11     -0.74\n",
       "3  14.88  14.99  14.90  14.81          0.00      0.00\n",
       "4  15.02  15.10  14.90  14.88         -0.19     -1.26"
      ]
     },
     "execution_count": 28,
     "metadata": {},
     "output_type": "execute_result"
    }
   ],
   "source": [
    "train_data.head()"
   ]
  },
  {
   "cell_type": "code",
   "execution_count": 31,
   "metadata": {
    "collapsed": false
   },
   "outputs": [],
   "source": [
    "test_data = test_data.iloc[:,-7:-1]"
   ]
  },
  {
   "cell_type": "code",
   "execution_count": 32,
   "metadata": {
    "collapsed": true
   },
   "outputs": [],
   "source": [
    "svr_rbf = SVR(kernel = 'rbf', C = 1e3, gamma = 0.1)"
   ]
  },
  {
   "cell_type": "code",
   "execution_count": 33,
   "metadata": {
    "collapsed": true
   },
   "outputs": [],
   "source": [
    "y_rbf = svr_rbf.fit(train_data,y_label).predict(test_data)"
   ]
  },
  {
   "cell_type": "code",
   "execution_count": 34,
   "metadata": {
    "collapsed": false
   },
   "outputs": [
    {
     "data": {
      "text/plain": [
       "array([ 0.0498513 ,  0.0498388 ,  0.04983744, ...,  0.05021839,\n",
       "        0.05022358,  0.05020119])"
      ]
     },
     "execution_count": 34,
     "metadata": {},
     "output_type": "execute_result"
    }
   ],
   "source": [
    "y_rbf"
   ]
  },
  {
   "cell_type": "code",
   "execution_count": 40,
   "metadata": {
    "collapsed": false
   },
   "outputs": [],
   "source": [
    "result = open('y_rbf.txt','w')"
   ]
  },
  {
   "cell_type": "code",
   "execution_count": 41,
   "metadata": {
    "collapsed": false
   },
   "outputs": [],
   "source": [
    "for i in y_rbf:\n",
    "    result.write(str(i)+'\\n')\n",
    "result.close()"
   ]
  },
  {
   "cell_type": "code",
   "execution_count": null,
   "metadata": {
    "collapsed": true
   },
   "outputs": [],
   "source": []
  }
 ],
 "metadata": {
  "kernelspec": {
   "display_name": "Python 3",
   "language": "python",
   "name": "python3"
  },
  "language_info": {
   "codemirror_mode": {
    "name": "ipython",
    "version": 3
   },
   "file_extension": ".py",
   "mimetype": "text/x-python",
   "name": "python",
   "nbconvert_exporter": "python",
   "pygments_lexer": "ipython3",
   "version": "3.6.0"
  }
 },
 "nbformat": 4,
 "nbformat_minor": 2
}
