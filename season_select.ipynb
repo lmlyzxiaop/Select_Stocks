{
 "cells": [
  {
   "cell_type": "code",
   "execution_count": 1,
   "metadata": {
    "collapsed": false
   },
   "outputs": [
    {
     "name": "stderr",
     "output_type": "stream",
     "text": [
      "E:\\Anaconda\\lib\\site-packages\\statsmodels\\compat\\pandas.py:56: FutureWarning: The pandas.core.datetools module is deprecated and will be removed in a future version. Please use the pandas.tseries module instead.\n",
      "  from pandas.core import datetools\n"
     ]
    }
   ],
   "source": [
    "import tushare as ts\n",
    "import pandas as pd\n",
    "import numpy as np\n",
    "import statsmodels.api as sm\n",
    "from statsmodels import regression\n",
    "import ffn\n",
    "from sklearn.svm import SVR\n",
    "import matplotlib.pyplot as plt\n",
    "from collections import defaultdict\n",
    "import os"
   ]
  },
  {
   "cell_type": "code",
   "execution_count": 57,
   "metadata": {
    "collapsed": true
   },
   "outputs": [],
   "source": [
    "class Model:\n",
    "    \n",
    "    #初始化参数\n",
    "    def __init__(self, data, train_start, train_end, test_start, test_end, n):\n",
    "        \n",
    "        self.code = data['code']\n",
    "        self.train_start = train_start\n",
    "        self.train_end = train_end\n",
    "        self.test_start = test_start\n",
    "        self.test_end = test_end\n",
    "        self.n = n\n",
    "        \n",
    "    #获取单只股票初始训练集和测试集\n",
    "    def getInitData(self, code):\n",
    "        \n",
    "        train_start = self.train_start\n",
    "        train_end = self.train_end\n",
    "        \n",
    "        test_start = self.test_start\n",
    "        test_end = self.test_end\n",
    "        \n",
    "        train_data = ts.get_hist_data(code, start = train_start, end = train_end)\n",
    "        test_data = ts.get_hist_data(code, start = test_start, end = test_end)\n",
    "\n",
    "        train_data = train_data.loc[:,['open','high','close','low','price_change','p_change','turnover']]\n",
    "        test_data = test_data.loc[:,['open','high','close','low','price_change','p_change','turnover']]\n",
    "        \n",
    "        return train_data, test_data\n",
    "    \n",
    "    #训练和预测股票的N期收益\n",
    "    def train(self):\n",
    "        #使用scikit-learn导入SVR进行训练和预测\n",
    "        x_train = []\n",
    "        y_label = []\n",
    "        x_test = []\n",
    "        \n",
    "        for code in self.code:\n",
    "            train_data, test_data = self.getInitData(code)\n",
    "            \n",
    "            #计算特征\n",
    "            '''\n",
    "            以后特征的计算，写在feature的class里即可\n",
    "            '''\n",
    "            feature = Feature(train_data, test_data, self.n)\n",
    "            \n",
    "            \n",
    "            train_data, test_data = feature.cal_mean()\n",
    "            train_data = feature.cal_nReturn(train_data)\n",
    "\n",
    "            svr_rbf = SVR(kernel = 'rbf', C = 1e3, gamma = 0.1)\n",
    "            X = train_data.iloc[:,-9:-2]\n",
    "            X1 = test_data.iloc[:,-8:-1]\n",
    "            y = train_data.iloc[:,-1:]\n",
    "            for i in range(len(X)):\n",
    "                x_train.append(list(X.iloc[i]))\n",
    "            for i in range(len(y)):\n",
    "                y_label.append(list(y.iloc[i]))\n",
    "            for i in range(len(X1)):    \n",
    "                x_test.append(list(X1.iloc[i]))\n",
    "\n",
    "        y_rbf = svr_rbf.fit(x_train,y_label).predict(x_test)\n",
    "        \n",
    "        return y_rbf\n",
    "\n",
    "    #得到预期代码\n",
    "\n",
    "#     def getCode():\n",
    "        \n",
    "#         return \n",
    "        "
   ]
  },
  {
   "cell_type": "code",
   "execution_count": 58,
   "metadata": {
    "collapsed": false
   },
   "outputs": [],
   "source": [
    "class Feature:\n",
    "    \n",
    "    def __init__(self, train_data, test_data, n):\n",
    "        self.train_data = train_data\n",
    "        self.test_data = test_data\n",
    "        self.n = n\n",
    "        \n",
    "    #计算开盘到收盘之间的价格均值\n",
    "    def cal_mean(self):\n",
    "        train_data = self.train_data\n",
    "        test_data = self.test_data\n",
    "        \n",
    "        first_data_open = train_data.loc[:,['open']]\n",
    "        first_data_close = train_data.loc[:,['close']]\n",
    "\n",
    "        second_data_open = test_data.loc[:,['open']]\n",
    "        second_data_close = test_data.loc[:,['close']]\n",
    "\n",
    "        first_data_open.rename(columns = {'open':'mean'},inplace=True)\n",
    "        first_data_close.rename(columns = {'close':'mean'},inplace=True)\n",
    "        first_data_mean = (first_data_close + first_data_open)/2\n",
    "\n",
    "        second_data_open.rename(columns = {'open':'mean'},inplace=True)\n",
    "        second_data_close.rename(columns = {'close':'mean'},inplace=True)\n",
    "        second_data_mean = (second_data_close + second_data_open)/2\n",
    "\n",
    "        train_data['mean'] = first_data_mean\n",
    "        test_data['mean'] = second_data_mean\n",
    "        \n",
    "        return train_data,test_data\n",
    "    \n",
    "    #计算N期收益\n",
    "    def cal_nReturn(self, train_data):\n",
    "        n = self.n\n",
    "        #训练集的N期平均收益率\n",
    "        origin_mean = train_data.loc[:,['mean']]\n",
    "        origin_mean_n = origin_mean.shift(n)\n",
    "        train_simpleret = (origin_mean - origin_mean_n) / origin_mean_n\n",
    "        train_data['n_simpleret'] = train_simpleret\n",
    "        #填充缺失的值\n",
    "        train_data = train_data.fillna(method='bfill')\n",
    "        \n",
    "        return train_data"
   ]
  },
  {
   "cell_type": "code",
   "execution_count": 109,
   "metadata": {
    "collapsed": true
   },
   "outputs": [],
   "source": [
    "class Season_Feature:\n",
    "    \n",
    "    def __init__(self,year,season):\n",
    "        self.year = year\n",
    "        self.season = season\n",
    "    \n",
    "    \n",
    "    \n",
    "        \n",
    "    #基本面数据的处理\n",
    "    #\n",
    "    #将基本面数据中的中文名称hash\n",
    "    def name_to_code(name,data):\n",
    "        d = defaultdict(list)\n",
    "        real_name = []\n",
    "        num = 0\n",
    "        for i in name:\n",
    "            if (not len(d[i])):\n",
    "                d[i].append(num)\n",
    "                num+=1\n",
    "            real_name.append(d[i][0])\n",
    "        text = str(num)\n",
    "        return real_name\n",
    "    \n",
    "    #change_name 默认为基本面数据的列名，可以根据需要修改\n",
    "    def need_change(data,change_name = ['name','industry','area']):\n",
    "        for i in change_name:\n",
    "            name = data[i]\n",
    "            real_name = name_to_code(name,data)\n",
    "            del data[i]\n",
    "            data[i] = real_name\n",
    "        return data\n",
    "    \n",
    "    #获取2017年第二季度的基本面数据\n",
    "    def get_basic(self):\n",
    "        year = self.year\n",
    "        season = self.season\n",
    "        \n",
    "        base = ts.get_stock_basics()\n",
    "        #获取2017年第2季度的业绩报表数据\n",
    "        table1 = ts.get_report_data(year,season)\n",
    "        #获取 2017年第二季度的盈利能力数据\n",
    "        table2 = ts.get_profit_data(year,season)\n",
    "        #获取2017年第2季度的营运能力数据\n",
    "        table3 = ts.get_operation_data(year,season)\n",
    "        #获取2017年第2季度的成长能力数据\n",
    "        table4 = ts.get_growth_data(year,season)\n",
    "        #获取2017年第2季度的偿债能力数据\n",
    "        table5 = ts.get_debtpaying_data(year,season)\n",
    "        #获取2017年第2季度的现金流量数据\n",
    "        table6 = ts.get_cashflow_data(year,season)\n",
    "        \n",
    "        return base,table1,table2,table3,table4,table5,table6\n",
    "    \n",
    "    #将基本面的后6个表按 code，name 和并\n",
    "    def merge_basic(self):\n",
    "        year = self.year\n",
    "        season = self.season\n",
    "        \n",
    "        base,table1,table2,table3,table4,table5,table6 = self.get_basic()\n",
    "        #合并后6个表的数据\n",
    "        result = pd.merge(table1,table2,on=['code','name'])\n",
    "        result = pd.merge(result,table3,on=['code','name'])\n",
    "        result = pd.merge(result,table4,on=['code','name'])\n",
    "        result = pd.merge(result,table5,on=['code','name'])\n",
    "        result = pd.merge(result,table6,on=['code','name'])\n",
    "        #result = result.set_index('code')\n",
    "        #合并前两个表的数据\n",
    "        \n",
    "        return result\n"
   ]
  },
  {
   "cell_type": "code",
   "execution_count": 60,
   "metadata": {
    "collapsed": false
   },
   "outputs": [
    {
     "name": "stdout",
     "output_type": "stream",
     "text": [
      "[-0.01226435  0.00128179  0.00536256 ...,  0.05089279  0.04711263\n",
      "  0.04966329]\n"
     ]
    }
   ],
   "source": [
    "#主函数\n",
    "model = Model(ts.get_sz50s(), '2017-03-01', '2017-06-30', '2017-07-01', '2017-08-31', 15)\n",
    "\n",
    "print (model.train())"
   ]
  },
  {
   "cell_type": "code",
   "execution_count": 110,
   "metadata": {
    "collapsed": false
   },
   "outputs": [
    {
     "name": "stdout",
     "output_type": "stream",
     "text": [
      "[Getting data:]########################################################[Getting data:]########################################################[Getting data:]########################################################[Getting data:]########################################################[Getting data:]########################################################[Getting data:]########################################################"
     ]
    }
   ],
   "source": [
    "'''\n",
    "season2 = Season_Feature(2017,2)\n",
    "season2 = season2.merge_basic()\n",
    "season2 = season2.drop('name',1)\n",
    "season2.to_csv('2017_season2.csv',sep='\\t',na_rep='NaN',encoding='UTF-8')\n",
    "'''\n"
   ]
  },
  {
   "cell_type": "code",
   "execution_count": 107,
   "metadata": {
    "collapsed": false
   },
   "outputs": [
    {
     "name": "stdout",
     "output_type": "stream",
     "text": [
      "[Getting data:]#######################################################[Getting data:]#######################################################[Getting data:]#######################################################[Getting data:]#######################################################[Getting data:]#######################################################[Getting data:]#######################################################"
     ]
    }
   ],
   "source": [
    "'''\n",
    "season1 = Season_Feature(2017,1)\n",
    "season1 = season1.merge_basic()\n",
    "season1 = season1.drop('name',1)\n",
    "#season1 = season1.set_index('code')\n",
    "season1.to_csv('2017_season1.csv',sep='\\t',na_rep='NaN',encoding='UTF-8')\n",
    "'''"
   ]
  },
  {
   "cell_type": "code",
   "execution_count": 16,
   "metadata": {
    "collapsed": false
   },
   "outputs": [],
   "source": [
    "#load data\n",
    "season1 = pd.read_csv('2017_season1.csv',sep='\\t',index_col=0)\n",
    "season2 = pd.read_csv('2017_season2.csv',sep='\\t',index_col=0)"
   ]
  },
  {
   "cell_type": "code",
   "execution_count": 17,
   "metadata": {
    "collapsed": false
   },
   "outputs": [
    {
     "data": {
      "text/html": [
       "<div>\n",
       "<style>\n",
       "    .dataframe thead tr:only-child th {\n",
       "        text-align: right;\n",
       "    }\n",
       "\n",
       "    .dataframe thead th {\n",
       "        text-align: left;\n",
       "    }\n",
       "\n",
       "    .dataframe tbody tr th {\n",
       "        vertical-align: top;\n",
       "    }\n",
       "</style>\n",
       "<table border=\"1\" class=\"dataframe\">\n",
       "  <thead>\n",
       "    <tr style=\"text-align: right;\">\n",
       "      <th></th>\n",
       "      <th>code</th>\n",
       "      <th>eps_x</th>\n",
       "      <th>eps_yoy</th>\n",
       "      <th>bvps</th>\n",
       "      <th>roe_x</th>\n",
       "      <th>epcf</th>\n",
       "      <th>net_profits_x</th>\n",
       "      <th>profits_yoy</th>\n",
       "      <th>distrib</th>\n",
       "      <th>report_date</th>\n",
       "      <th>...</th>\n",
       "      <th>quickratio</th>\n",
       "      <th>cashratio</th>\n",
       "      <th>icratio</th>\n",
       "      <th>sheqratio</th>\n",
       "      <th>adratio</th>\n",
       "      <th>cf_sales</th>\n",
       "      <th>rateofreturn</th>\n",
       "      <th>cf_nm</th>\n",
       "      <th>cf_liabilities</th>\n",
       "      <th>cashflowratio</th>\n",
       "    </tr>\n",
       "  </thead>\n",
       "  <tbody>\n",
       "    <tr>\n",
       "      <th>0</th>\n",
       "      <td>603129</td>\n",
       "      <td>0.30</td>\n",
       "      <td>87.50</td>\n",
       "      <td>NaN</td>\n",
       "      <td>7.36</td>\n",
       "      <td>NaN</td>\n",
       "      <td>2964.77</td>\n",
       "      <td>88.23</td>\n",
       "      <td>NaN</td>\n",
       "      <td>07-31</td>\n",
       "      <td>...</td>\n",
       "      <td>0.8655</td>\n",
       "      <td>65.6637</td>\n",
       "      <td>2004.3442</td>\n",
       "      <td>41.9311</td>\n",
       "      <td>58.0689</td>\n",
       "      <td>0.0942</td>\n",
       "      <td>0.0320</td>\n",
       "      <td>1.0771</td>\n",
       "      <td>0.0552</td>\n",
       "      <td>5.6048</td>\n",
       "    </tr>\n",
       "    <tr>\n",
       "      <th>1</th>\n",
       "      <td>300693</td>\n",
       "      <td>0.29</td>\n",
       "      <td>-17.14</td>\n",
       "      <td>NaN</td>\n",
       "      <td>7.56</td>\n",
       "      <td>NaN</td>\n",
       "      <td>1978.66</td>\n",
       "      <td>-17.37</td>\n",
       "      <td>NaN</td>\n",
       "      <td>07-31</td>\n",
       "      <td>...</td>\n",
       "      <td>1.8684</td>\n",
       "      <td>53.9644</td>\n",
       "      <td>2839.2049</td>\n",
       "      <td>56.2358</td>\n",
       "      <td>43.7642</td>\n",
       "      <td>-0.0335</td>\n",
       "      <td>-0.0091</td>\n",
       "      <td>-0.2240</td>\n",
       "      <td>-0.0209</td>\n",
       "      <td>-2.1422</td>\n",
       "    </tr>\n",
       "    <tr>\n",
       "      <th>2</th>\n",
       "      <td>603359</td>\n",
       "      <td>0.26</td>\n",
       "      <td>225.00</td>\n",
       "      <td>NaN</td>\n",
       "      <td>3.57</td>\n",
       "      <td>NaN</td>\n",
       "      <td>4439.76</td>\n",
       "      <td>208.22</td>\n",
       "      <td>NaN</td>\n",
       "      <td>07-24</td>\n",
       "      <td>...</td>\n",
       "      <td>1.2114</td>\n",
       "      <td>45.8946</td>\n",
       "      <td>12603.7017</td>\n",
       "      <td>52.0231</td>\n",
       "      <td>47.9769</td>\n",
       "      <td>0.4177</td>\n",
       "      <td>0.0410</td>\n",
       "      <td>2.2545</td>\n",
       "      <td>0.0854</td>\n",
       "      <td>8.5396</td>\n",
       "    </tr>\n",
       "    <tr>\n",
       "      <th>3</th>\n",
       "      <td>603978</td>\n",
       "      <td>0.35</td>\n",
       "      <td>6.06</td>\n",
       "      <td>NaN</td>\n",
       "      <td>3.16</td>\n",
       "      <td>NaN</td>\n",
       "      <td>2126.94</td>\n",
       "      <td>6.40</td>\n",
       "      <td>NaN</td>\n",
       "      <td>07-24</td>\n",
       "      <td>...</td>\n",
       "      <td>1.6079</td>\n",
       "      <td>24.9947</td>\n",
       "      <td>1854.3918</td>\n",
       "      <td>68.9945</td>\n",
       "      <td>31.0055</td>\n",
       "      <td>-0.0814</td>\n",
       "      <td>-0.0154</td>\n",
       "      <td>-0.7171</td>\n",
       "      <td>-0.0496</td>\n",
       "      <td>-5.7985</td>\n",
       "    </tr>\n",
       "    <tr>\n",
       "      <th>4</th>\n",
       "      <td>300687</td>\n",
       "      <td>0.25</td>\n",
       "      <td>NaN</td>\n",
       "      <td>NaN</td>\n",
       "      <td>5.55</td>\n",
       "      <td>NaN</td>\n",
       "      <td>1517.02</td>\n",
       "      <td>9.65</td>\n",
       "      <td>NaN</td>\n",
       "      <td>07-21</td>\n",
       "      <td>...</td>\n",
       "      <td>2.754</td>\n",
       "      <td>12.508</td>\n",
       "      <td>2982.8836</td>\n",
       "      <td>66.1234</td>\n",
       "      <td>33.8766</td>\n",
       "      <td>0.1848</td>\n",
       "      <td>0.0641</td>\n",
       "      <td>1.7946</td>\n",
       "      <td>0.1891</td>\n",
       "      <td>18.9367</td>\n",
       "    </tr>\n",
       "  </tbody>\n",
       "</table>\n",
       "<p>5 rows × 40 columns</p>\n",
       "</div>"
      ],
      "text/plain": [
       "     code  eps_x  eps_yoy  bvps  roe_x  epcf  net_profits_x  profits_yoy  \\\n",
       "0  603129   0.30    87.50   NaN   7.36   NaN        2964.77        88.23   \n",
       "1  300693   0.29   -17.14   NaN   7.56   NaN        1978.66       -17.37   \n",
       "2  603359   0.26   225.00   NaN   3.57   NaN        4439.76       208.22   \n",
       "3  603978   0.35     6.06   NaN   3.16   NaN        2126.94         6.40   \n",
       "4  300687   0.25      NaN   NaN   5.55   NaN        1517.02         9.65   \n",
       "\n",
       "  distrib report_date      ...        quickratio  cashratio     icratio  \\\n",
       "0     NaN       07-31      ...            0.8655    65.6637   2004.3442   \n",
       "1     NaN       07-31      ...            1.8684    53.9644   2839.2049   \n",
       "2     NaN       07-24      ...            1.2114    45.8946  12603.7017   \n",
       "3     NaN       07-24      ...            1.6079    24.9947   1854.3918   \n",
       "4     NaN       07-21      ...             2.754     12.508   2982.8836   \n",
       "\n",
       "   sheqratio  adratio  cf_sales  rateofreturn   cf_nm  cf_liabilities  \\\n",
       "0    41.9311  58.0689    0.0942        0.0320  1.0771          0.0552   \n",
       "1    56.2358  43.7642   -0.0335       -0.0091 -0.2240         -0.0209   \n",
       "2    52.0231  47.9769    0.4177        0.0410  2.2545          0.0854   \n",
       "3    68.9945  31.0055   -0.0814       -0.0154 -0.7171         -0.0496   \n",
       "4    66.1234  33.8766    0.1848        0.0641  1.7946          0.1891   \n",
       "\n",
       "   cashflowratio  \n",
       "0         5.6048  \n",
       "1        -2.1422  \n",
       "2         8.5396  \n",
       "3        -5.7985  \n",
       "4        18.9367  \n",
       "\n",
       "[5 rows x 40 columns]"
      ]
     },
     "execution_count": 17,
     "metadata": {},
     "output_type": "execute_result"
    }
   ],
   "source": [
    "season1.head()"
   ]
  },
  {
   "cell_type": "code",
   "execution_count": 18,
   "metadata": {
    "collapsed": false
   },
   "outputs": [],
   "source": [
    "#获取两个季度股票代码\n",
    "def get_season_codes(season1,season2):\n",
    "    season1_codes = season1['code']\n",
    "    season2_codes = season2['code']\n",
    "    return season1_codes,season2_codes"
   ]
  },
  {
   "cell_type": "code",
   "execution_count": 19,
   "metadata": {
    "collapsed": false
   },
   "outputs": [],
   "source": [
    "season1_codes,season2_codes = get_season_codes(season1,season2)"
   ]
  },
  {
   "cell_type": "code",
   "execution_count": 75,
   "metadata": {
    "collapsed": false
   },
   "outputs": [
    {
     "data": {
      "text/plain": [
       "0       603129\n",
       "1       300693\n",
       "2       603359\n",
       "3       603978\n",
       "4       300687\n",
       "5       603860\n",
       "6       300686\n",
       "7       603387\n",
       "8       300682\n",
       "9       300682\n",
       "10      603357\n",
       "11      300681\n",
       "12      300680\n",
       "13      603233\n",
       "14        2888\n",
       "15      603617\n",
       "16      300676\n",
       "17        2887\n",
       "18      603938\n",
       "19         511\n",
       "20      603595\n",
       "21      300672\n",
       "22      603757\n",
       "23      603316\n",
       "24      603933\n",
       "25      603331\n",
       "26      603326\n",
       "27      603326\n",
       "28      300671\n",
       "29      300670\n",
       "         ...  \n",
       "3216    600017\n",
       "3217      2534\n",
       "3218    300484\n",
       "3219    601678\n",
       "3220      2415\n",
       "3221    601118\n",
       "3222    601118\n",
       "3223    600829\n",
       "3224    300286\n",
       "3225       619\n",
       "3226    600436\n",
       "3227      2296\n",
       "3228    300493\n",
       "3229      2732\n",
       "3230    300018\n",
       "3231      2536\n",
       "3232    603333\n",
       "3233    603333\n",
       "3234    603797\n",
       "3235    600123\n",
       "3236       967\n",
       "3237       953\n",
       "3238      2553\n",
       "3239      2686\n",
       "3240    600966\n",
       "3241      2237\n",
       "3242      2664\n",
       "3243    300310\n",
       "3244    300101\n",
       "3245    300294\n",
       "Name: code, Length: 3246, dtype: int64"
      ]
     },
     "execution_count": 75,
     "metadata": {},
     "output_type": "execute_result"
    }
   ],
   "source": [
    "test = season1.code\n",
    "test"
   ]
  },
  {
   "cell_type": "code",
   "execution_count": 84,
   "metadata": {
    "collapsed": false
   },
   "outputs": [],
   "source": [
    "#有些股票的第一季度历史数据为空， 为空则抛弃\n",
    "data = ts.get_hist_data(str(test[3240]),start='2017-01-01',end='2017-03-31')\n",
    "\n"
   ]
  },
  {
   "cell_type": "code",
   "execution_count": 100,
   "metadata": {
    "collapsed": false
   },
   "outputs": [
    {
     "name": "stdout",
     "output_type": "stream",
     "text": [
      "1\n"
     ]
    }
   ],
   "source": [
    "data.empty\n",
    "\n",
    "if type(data)!='NoneType':\n",
    "    print(1)"
   ]
  },
  {
   "cell_type": "code",
   "execution_count": 36,
   "metadata": {
    "collapsed": false
   },
   "outputs": [
    {
     "name": "stdout",
     "output_type": "stream",
     "text": [
      "59\n",
      "<class 'numpy.float64'>\n"
     ]
    }
   ],
   "source": [
    "#获取时间序列\n",
    "season_date = data.index.tolist()\n",
    "print(len(season_date))\n",
    "data_open = data.open\n",
    "data_open = list(data_open)\n",
    "data_open[1]\n",
    "print(type(data_open[1]))"
   ]
  },
  {
   "cell_type": "code",
   "execution_count": null,
   "metadata": {
    "collapsed": false
   },
   "outputs": [],
   "source": [
    "#获取季度内股票的历史数据 返回的是股票代码和收益率的label\n",
    "def get_season_hist_data(season_codes,season_start='2017-01-01',season_end='2017-03-31'):\n",
    "    y_label = []\n",
    "    x_code = []\n",
    "    for code in season_codes:\n",
    "        stock = str(code)\n",
    "        if len(stock)<6:\n",
    "            continue\n",
    "        data = ts.get_hist_data(stock,season_start,season_end)\n",
    "        #需要考虑在当前季度中没有该股票的历史数据的情况\n",
    "        #没有数据无法进行计算，直接抛弃。\n",
    "       \n",
    "        if (type(data) == 'NoneType'):\n",
    "            continue\n",
    "        elif data.empty == True:\n",
    "            continue\n",
    "        else:\n",
    "            #获取需要计算收益的两列数据\n",
    "            data_open = data.open\n",
    "            data_open = list(data_open)\n",
    "            data_close = data.close\n",
    "            data_close = list(data_close)\n",
    "            # 获取季度有交易日区间\n",
    "            days = len(data.index.tolist())\n",
    "        \n",
    "            #找出收益率 >=15% 和 收益率 <= -5%的股票并给出对应的y_label\n",
    "            \n",
    "            ret_flag = 0 #收益率的标记 为0表示在该季度的交易日内没能达到要求\n",
    "            \n",
    "            for i in range(0,days):\n",
    "                ret_flag = 0\n",
    "                for j in range(i+1,days):\n",
    "                #计算收益率\n",
    "                #只要在季度交易区间内达到了限制条件，就设置相应的label 在交易期间没达到就按照季初-季末算收益率\n",
    "                    ret = (data_close[j] - data_open[i]) / data_close[j]\n",
    "        \n",
    "                    if ret >= 0.15 :\n",
    "                        x_code.append(code)\n",
    "                        y_label.append(0.15) \n",
    "                        ret_flag = 1\n",
    "                        break\n",
    "                    elif ret <= -0.05:\n",
    "                        x_code.append(code)\n",
    "                        y_label.append(0.15) \n",
    "                        ret_flag = 1\n",
    "                        break\n",
    "                    if ret_flag == 1:\n",
    "                        break\n",
    "            #若没有达到要求，将label 设置成季初到季末的收益率\n",
    "            if ret_flag == 0:\n",
    "                x_code.append(code)\n",
    "                ret = (data_close[days] - data_open[0]) / data_close[days]\n",
    "                y_label.append(ret) \n",
    "               \n",
    "                   \n",
    "    return x_code,y_label\n",
    "            \n",
    "        \n",
    "        "
   ]
  },
  {
   "cell_type": "code",
   "execution_count": null,
   "metadata": {
    "collapsed": false
   },
   "outputs": [],
   "source": [
    "x_code,y_label = get_season_hist_data(season1_codes,'2017-01-01','2017-03-31')"
   ]
  },
  {
   "cell_type": "code",
   "execution_count": null,
   "metadata": {
    "collapsed": false
   },
   "outputs": [],
   "source": []
  },
  {
   "cell_type": "code",
   "execution_count": null,
   "metadata": {
    "collapsed": true
   },
   "outputs": [],
   "source": []
  }
 ],
 "metadata": {
  "kernelspec": {
   "display_name": "Python 3",
   "language": "python",
   "name": "python3"
  },
  "language_info": {
   "codemirror_mode": {
    "name": "ipython",
    "version": 3
   },
   "file_extension": ".py",
   "mimetype": "text/x-python",
   "name": "python",
   "nbconvert_exporter": "python",
   "pygments_lexer": "ipython3",
   "version": "3.6.0"
  }
 },
 "nbformat": 4,
 "nbformat_minor": 2
}
