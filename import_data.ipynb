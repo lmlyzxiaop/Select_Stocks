{
 "cells": [
  {
   "cell_type": "code",
   "execution_count": 1,
   "metadata": {
    "collapsed": false
   },
   "outputs": [
    {
     "name": "stderr",
     "output_type": "stream",
     "text": [
      "E:\\Anaconda\\lib\\site-packages\\statsmodels\\compat\\pandas.py:56: FutureWarning: The pandas.core.datetools module is deprecated and will be removed in a future version. Please use the pandas.tseries module instead.\n",
      "  from pandas.core import datetools\n"
     ]
    }
   ],
   "source": [
    "import tushare as ts\n",
    "import pandas as pd\n",
    "import numpy as np\n",
    "import statsmodels.api as sm\n",
    "from statsmodels import regression\n",
    "import ffn"
   ]
  },
  {
   "cell_type": "code",
   "execution_count": 2,
   "metadata": {
    "collapsed": false
   },
   "outputs": [],
   "source": [
    "#选取可行的股票池 以 600848 为例 取 2015-01-01 到 2016-12-31的数据为训练数据  valid 2017-01-01 到 2017-3-31 test 2017-04-1-2017-8-31\n",
    "train_data = ts.get_hist_data('600848',start='2015-01-05',end='2016-12-31')\n",
    "valid_data = ts.get_hist_data('600848',start='2017-01-01',end='2017-03-31')\n",
    "test_data = ts.get_hist_data('600848',start='2017-04-01',end='2017-08-31')"
   ]
  },
  {
   "cell_type": "code",
   "execution_count": null,
   "metadata": {
    "collapsed": false
   },
   "outputs": [],
   "source": []
  },
  {
   "cell_type": "code",
   "execution_count": 3,
   "metadata": {
    "collapsed": false
   },
   "outputs": [],
   "source": [
    "#筛选特征\n",
    "train_data=train_data.loc[:,['open','high','close','low','price_change','p_change','turnover']]\n",
    "valid_data=valid_data.loc[:,['open','high','close','low','price_change','p_change','turnover']]\n",
    "test_data=test_data.loc[:,['open','high','close','low','price_change','p_change','turnover']]"
   ]
  },
  {
   "cell_type": "code",
   "execution_count": 4,
   "metadata": {
    "collapsed": false
   },
   "outputs": [
    {
     "data": {
      "text/html": [
       "<div>\n",
       "<style>\n",
       "    .dataframe thead tr:only-child th {\n",
       "        text-align: right;\n",
       "    }\n",
       "\n",
       "    .dataframe thead th {\n",
       "        text-align: left;\n",
       "    }\n",
       "\n",
       "    .dataframe tbody tr th {\n",
       "        vertical-align: top;\n",
       "    }\n",
       "</style>\n",
       "<table border=\"1\" class=\"dataframe\">\n",
       "  <thead>\n",
       "    <tr style=\"text-align: right;\">\n",
       "      <th></th>\n",
       "      <th>open</th>\n",
       "      <th>high</th>\n",
       "      <th>close</th>\n",
       "      <th>low</th>\n",
       "      <th>price_change</th>\n",
       "      <th>p_change</th>\n",
       "      <th>turnover</th>\n",
       "    </tr>\n",
       "    <tr>\n",
       "      <th>date</th>\n",
       "      <th></th>\n",
       "      <th></th>\n",
       "      <th></th>\n",
       "      <th></th>\n",
       "      <th></th>\n",
       "      <th></th>\n",
       "      <th></th>\n",
       "    </tr>\n",
       "  </thead>\n",
       "  <tbody>\n",
       "    <tr>\n",
       "      <th>2017-08-31</th>\n",
       "      <td>24.16</td>\n",
       "      <td>25.88</td>\n",
       "      <td>25.62</td>\n",
       "      <td>23.78</td>\n",
       "      <td>1.47</td>\n",
       "      <td>6.09</td>\n",
       "      <td>6.49</td>\n",
       "    </tr>\n",
       "    <tr>\n",
       "      <th>2017-08-30</th>\n",
       "      <td>23.25</td>\n",
       "      <td>24.60</td>\n",
       "      <td>24.15</td>\n",
       "      <td>23.21</td>\n",
       "      <td>1.09</td>\n",
       "      <td>4.73</td>\n",
       "      <td>4.92</td>\n",
       "    </tr>\n",
       "    <tr>\n",
       "      <th>2017-08-29</th>\n",
       "      <td>23.45</td>\n",
       "      <td>23.85</td>\n",
       "      <td>23.06</td>\n",
       "      <td>23.04</td>\n",
       "      <td>-0.44</td>\n",
       "      <td>-1.87</td>\n",
       "      <td>2.28</td>\n",
       "    </tr>\n",
       "    <tr>\n",
       "      <th>2017-08-28</th>\n",
       "      <td>23.45</td>\n",
       "      <td>23.70</td>\n",
       "      <td>23.50</td>\n",
       "      <td>23.05</td>\n",
       "      <td>0.13</td>\n",
       "      <td>0.56</td>\n",
       "      <td>2.98</td>\n",
       "    </tr>\n",
       "    <tr>\n",
       "      <th>2017-08-25</th>\n",
       "      <td>22.50</td>\n",
       "      <td>23.60</td>\n",
       "      <td>23.37</td>\n",
       "      <td>22.50</td>\n",
       "      <td>0.75</td>\n",
       "      <td>3.32</td>\n",
       "      <td>3.24</td>\n",
       "    </tr>\n",
       "  </tbody>\n",
       "</table>\n",
       "</div>"
      ],
      "text/plain": [
       "             open   high  close    low  price_change  p_change  turnover\n",
       "date                                                                    \n",
       "2017-08-31  24.16  25.88  25.62  23.78          1.47      6.09      6.49\n",
       "2017-08-30  23.25  24.60  24.15  23.21          1.09      4.73      4.92\n",
       "2017-08-29  23.45  23.85  23.06  23.04         -0.44     -1.87      2.28\n",
       "2017-08-28  23.45  23.70  23.50  23.05          0.13      0.56      2.98\n",
       "2017-08-25  22.50  23.60  23.37  22.50          0.75      3.32      3.24"
      ]
     },
     "execution_count": 4,
     "metadata": {},
     "output_type": "execute_result"
    }
   ],
   "source": [
    "test_data.head()"
   ]
  },
  {
   "cell_type": "code",
   "execution_count": 5,
   "metadata": {
    "collapsed": false
   },
   "outputs": [],
   "source": [
    "first_test_data = test_data.loc[:,['close']]"
   ]
  },
  {
   "cell_type": "code",
   "execution_count": 6,
   "metadata": {
    "collapsed": false
   },
   "outputs": [],
   "source": [
    "second_test_data = first_test_data.shift(1)"
   ]
  },
  {
   "cell_type": "code",
   "execution_count": 7,
   "metadata": {
    "collapsed": false
   },
   "outputs": [
    {
     "data": {
      "text/html": [
       "<div>\n",
       "<style>\n",
       "    .dataframe thead tr:only-child th {\n",
       "        text-align: right;\n",
       "    }\n",
       "\n",
       "    .dataframe thead th {\n",
       "        text-align: left;\n",
       "    }\n",
       "\n",
       "    .dataframe tbody tr th {\n",
       "        vertical-align: top;\n",
       "    }\n",
       "</style>\n",
       "<table border=\"1\" class=\"dataframe\">\n",
       "  <thead>\n",
       "    <tr style=\"text-align: right;\">\n",
       "      <th></th>\n",
       "      <th>close</th>\n",
       "    </tr>\n",
       "    <tr>\n",
       "      <th>date</th>\n",
       "      <th></th>\n",
       "    </tr>\n",
       "  </thead>\n",
       "  <tbody>\n",
       "    <tr>\n",
       "      <th>2017-08-31</th>\n",
       "      <td>25.62</td>\n",
       "    </tr>\n",
       "    <tr>\n",
       "      <th>2017-08-30</th>\n",
       "      <td>24.15</td>\n",
       "    </tr>\n",
       "    <tr>\n",
       "      <th>2017-08-29</th>\n",
       "      <td>23.06</td>\n",
       "    </tr>\n",
       "    <tr>\n",
       "      <th>2017-08-28</th>\n",
       "      <td>23.50</td>\n",
       "    </tr>\n",
       "    <tr>\n",
       "      <th>2017-08-25</th>\n",
       "      <td>23.37</td>\n",
       "    </tr>\n",
       "  </tbody>\n",
       "</table>\n",
       "</div>"
      ],
      "text/plain": [
       "            close\n",
       "date             \n",
       "2017-08-31  25.62\n",
       "2017-08-30  24.15\n",
       "2017-08-29  23.06\n",
       "2017-08-28  23.50\n",
       "2017-08-25  23.37"
      ]
     },
     "execution_count": 7,
     "metadata": {},
     "output_type": "execute_result"
    }
   ],
   "source": [
    "first_test_data.head()"
   ]
  },
  {
   "cell_type": "code",
   "execution_count": 8,
   "metadata": {
    "collapsed": false
   },
   "outputs": [
    {
     "data": {
      "text/html": [
       "<div>\n",
       "<style>\n",
       "    .dataframe thead tr:only-child th {\n",
       "        text-align: right;\n",
       "    }\n",
       "\n",
       "    .dataframe thead th {\n",
       "        text-align: left;\n",
       "    }\n",
       "\n",
       "    .dataframe tbody tr th {\n",
       "        vertical-align: top;\n",
       "    }\n",
       "</style>\n",
       "<table border=\"1\" class=\"dataframe\">\n",
       "  <thead>\n",
       "    <tr style=\"text-align: right;\">\n",
       "      <th></th>\n",
       "      <th>close</th>\n",
       "    </tr>\n",
       "    <tr>\n",
       "      <th>date</th>\n",
       "      <th></th>\n",
       "    </tr>\n",
       "  </thead>\n",
       "  <tbody>\n",
       "    <tr>\n",
       "      <th>2017-08-31</th>\n",
       "      <td>NaN</td>\n",
       "    </tr>\n",
       "    <tr>\n",
       "      <th>2017-08-30</th>\n",
       "      <td>25.62</td>\n",
       "    </tr>\n",
       "    <tr>\n",
       "      <th>2017-08-29</th>\n",
       "      <td>24.15</td>\n",
       "    </tr>\n",
       "    <tr>\n",
       "      <th>2017-08-28</th>\n",
       "      <td>23.06</td>\n",
       "    </tr>\n",
       "    <tr>\n",
       "      <th>2017-08-25</th>\n",
       "      <td>23.50</td>\n",
       "    </tr>\n",
       "  </tbody>\n",
       "</table>\n",
       "</div>"
      ],
      "text/plain": [
       "            close\n",
       "date             \n",
       "2017-08-31    NaN\n",
       "2017-08-30  25.62\n",
       "2017-08-29  24.15\n",
       "2017-08-28  23.06\n",
       "2017-08-25  23.50"
      ]
     },
     "execution_count": 8,
     "metadata": {},
     "output_type": "execute_result"
    }
   ],
   "source": [
    "second_test_data.head() #滞后一期的close"
   ]
  },
  {
   "cell_type": "code",
   "execution_count": 9,
   "metadata": {
    "collapsed": true
   },
   "outputs": [],
   "source": [
    "simpleret = (first_test_data - second_test_data)/second_test_data #计算简单一期收益"
   ]
  },
  {
   "cell_type": "code",
   "execution_count": 10,
   "metadata": {
    "collapsed": false
   },
   "outputs": [],
   "source": [
    "test_data['simpleret'] = simpleret"
   ]
  },
  {
   "cell_type": "code",
   "execution_count": null,
   "metadata": {
    "collapsed": false
   },
   "outputs": [],
   "source": []
  },
  {
   "cell_type": "code",
   "execution_count": 11,
   "metadata": {
    "collapsed": false
   },
   "outputs": [
    {
     "data": {
      "text/html": [
       "<div>\n",
       "<style>\n",
       "    .dataframe thead tr:only-child th {\n",
       "        text-align: right;\n",
       "    }\n",
       "\n",
       "    .dataframe thead th {\n",
       "        text-align: left;\n",
       "    }\n",
       "\n",
       "    .dataframe tbody tr th {\n",
       "        vertical-align: top;\n",
       "    }\n",
       "</style>\n",
       "<table border=\"1\" class=\"dataframe\">\n",
       "  <thead>\n",
       "    <tr style=\"text-align: right;\">\n",
       "      <th></th>\n",
       "      <th>open</th>\n",
       "      <th>high</th>\n",
       "      <th>close</th>\n",
       "      <th>low</th>\n",
       "      <th>price_change</th>\n",
       "      <th>p_change</th>\n",
       "      <th>turnover</th>\n",
       "      <th>simpleret</th>\n",
       "    </tr>\n",
       "    <tr>\n",
       "      <th>date</th>\n",
       "      <th></th>\n",
       "      <th></th>\n",
       "      <th></th>\n",
       "      <th></th>\n",
       "      <th></th>\n",
       "      <th></th>\n",
       "      <th></th>\n",
       "      <th></th>\n",
       "    </tr>\n",
       "  </thead>\n",
       "  <tbody>\n",
       "    <tr>\n",
       "      <th>2017-08-31</th>\n",
       "      <td>24.16</td>\n",
       "      <td>25.88</td>\n",
       "      <td>25.62</td>\n",
       "      <td>23.78</td>\n",
       "      <td>1.47</td>\n",
       "      <td>6.09</td>\n",
       "      <td>6.49</td>\n",
       "      <td>NaN</td>\n",
       "    </tr>\n",
       "    <tr>\n",
       "      <th>2017-08-30</th>\n",
       "      <td>23.25</td>\n",
       "      <td>24.60</td>\n",
       "      <td>24.15</td>\n",
       "      <td>23.21</td>\n",
       "      <td>1.09</td>\n",
       "      <td>4.73</td>\n",
       "      <td>4.92</td>\n",
       "      <td>-0.057377</td>\n",
       "    </tr>\n",
       "    <tr>\n",
       "      <th>2017-08-29</th>\n",
       "      <td>23.45</td>\n",
       "      <td>23.85</td>\n",
       "      <td>23.06</td>\n",
       "      <td>23.04</td>\n",
       "      <td>-0.44</td>\n",
       "      <td>-1.87</td>\n",
       "      <td>2.28</td>\n",
       "      <td>-0.045135</td>\n",
       "    </tr>\n",
       "    <tr>\n",
       "      <th>2017-08-28</th>\n",
       "      <td>23.45</td>\n",
       "      <td>23.70</td>\n",
       "      <td>23.50</td>\n",
       "      <td>23.05</td>\n",
       "      <td>0.13</td>\n",
       "      <td>0.56</td>\n",
       "      <td>2.98</td>\n",
       "      <td>0.019081</td>\n",
       "    </tr>\n",
       "    <tr>\n",
       "      <th>2017-08-25</th>\n",
       "      <td>22.50</td>\n",
       "      <td>23.60</td>\n",
       "      <td>23.37</td>\n",
       "      <td>22.50</td>\n",
       "      <td>0.75</td>\n",
       "      <td>3.32</td>\n",
       "      <td>3.24</td>\n",
       "      <td>-0.005532</td>\n",
       "    </tr>\n",
       "  </tbody>\n",
       "</table>\n",
       "</div>"
      ],
      "text/plain": [
       "             open   high  close    low  price_change  p_change  turnover  \\\n",
       "date                                                                       \n",
       "2017-08-31  24.16  25.88  25.62  23.78          1.47      6.09      6.49   \n",
       "2017-08-30  23.25  24.60  24.15  23.21          1.09      4.73      4.92   \n",
       "2017-08-29  23.45  23.85  23.06  23.04         -0.44     -1.87      2.28   \n",
       "2017-08-28  23.45  23.70  23.50  23.05          0.13      0.56      2.98   \n",
       "2017-08-25  22.50  23.60  23.37  22.50          0.75      3.32      3.24   \n",
       "\n",
       "            simpleret  \n",
       "date                   \n",
       "2017-08-31        NaN  \n",
       "2017-08-30  -0.057377  \n",
       "2017-08-29  -0.045135  \n",
       "2017-08-28   0.019081  \n",
       "2017-08-25  -0.005532  "
      ]
     },
     "execution_count": 11,
     "metadata": {},
     "output_type": "execute_result"
    }
   ],
   "source": [
    "test_data.head()"
   ]
  },
  {
   "cell_type": "code",
   "execution_count": 28,
   "metadata": {
    "collapsed": false
   },
   "outputs": [
    {
     "data": {
      "text/html": [
       "<div>\n",
       "<style>\n",
       "    .dataframe thead tr:only-child th {\n",
       "        text-align: right;\n",
       "    }\n",
       "\n",
       "    .dataframe thead th {\n",
       "        text-align: left;\n",
       "    }\n",
       "\n",
       "    .dataframe tbody tr th {\n",
       "        vertical-align: top;\n",
       "    }\n",
       "</style>\n",
       "<table border=\"1\" class=\"dataframe\">\n",
       "  <thead>\n",
       "    <tr style=\"text-align: right;\">\n",
       "      <th></th>\n",
       "      <th>open</th>\n",
       "      <th>high</th>\n",
       "      <th>close</th>\n",
       "      <th>low</th>\n",
       "      <th>price_change</th>\n",
       "      <th>p_change</th>\n",
       "      <th>turnover</th>\n",
       "      <th>simpleret</th>\n",
       "    </tr>\n",
       "    <tr>\n",
       "      <th>date</th>\n",
       "      <th></th>\n",
       "      <th></th>\n",
       "      <th></th>\n",
       "      <th></th>\n",
       "      <th></th>\n",
       "      <th></th>\n",
       "      <th></th>\n",
       "      <th></th>\n",
       "    </tr>\n",
       "  </thead>\n",
       "  <tbody>\n",
       "    <tr>\n",
       "      <th>2017-08-31</th>\n",
       "      <td>24.16</td>\n",
       "      <td>25.88</td>\n",
       "      <td>25.62</td>\n",
       "      <td>23.78</td>\n",
       "      <td>1.47</td>\n",
       "      <td>6.09</td>\n",
       "      <td>6.49</td>\n",
       "      <td>0.000000</td>\n",
       "    </tr>\n",
       "    <tr>\n",
       "      <th>2017-08-30</th>\n",
       "      <td>23.25</td>\n",
       "      <td>24.60</td>\n",
       "      <td>24.15</td>\n",
       "      <td>23.21</td>\n",
       "      <td>1.09</td>\n",
       "      <td>4.73</td>\n",
       "      <td>4.92</td>\n",
       "      <td>-0.057377</td>\n",
       "    </tr>\n",
       "    <tr>\n",
       "      <th>2017-08-29</th>\n",
       "      <td>23.45</td>\n",
       "      <td>23.85</td>\n",
       "      <td>23.06</td>\n",
       "      <td>23.04</td>\n",
       "      <td>-0.44</td>\n",
       "      <td>-1.87</td>\n",
       "      <td>2.28</td>\n",
       "      <td>-0.045135</td>\n",
       "    </tr>\n",
       "    <tr>\n",
       "      <th>2017-08-28</th>\n",
       "      <td>23.45</td>\n",
       "      <td>23.70</td>\n",
       "      <td>23.50</td>\n",
       "      <td>23.05</td>\n",
       "      <td>0.13</td>\n",
       "      <td>0.56</td>\n",
       "      <td>2.98</td>\n",
       "      <td>0.019081</td>\n",
       "    </tr>\n",
       "    <tr>\n",
       "      <th>2017-08-25</th>\n",
       "      <td>22.50</td>\n",
       "      <td>23.60</td>\n",
       "      <td>23.37</td>\n",
       "      <td>22.50</td>\n",
       "      <td>0.75</td>\n",
       "      <td>3.32</td>\n",
       "      <td>3.24</td>\n",
       "      <td>-0.005532</td>\n",
       "    </tr>\n",
       "  </tbody>\n",
       "</table>\n",
       "</div>"
      ],
      "text/plain": [
       "             open   high  close    low  price_change  p_change  turnover  \\\n",
       "date                                                                       \n",
       "2017-08-31  24.16  25.88  25.62  23.78          1.47      6.09      6.49   \n",
       "2017-08-30  23.25  24.60  24.15  23.21          1.09      4.73      4.92   \n",
       "2017-08-29  23.45  23.85  23.06  23.04         -0.44     -1.87      2.28   \n",
       "2017-08-28  23.45  23.70  23.50  23.05          0.13      0.56      2.98   \n",
       "2017-08-25  22.50  23.60  23.37  22.50          0.75      3.32      3.24   \n",
       "\n",
       "            simpleret  \n",
       "date                   \n",
       "2017-08-31   0.000000  \n",
       "2017-08-30  -0.057377  \n",
       "2017-08-29  -0.045135  \n",
       "2017-08-28   0.019081  \n",
       "2017-08-25  -0.005532  "
      ]
     },
     "execution_count": 28,
     "metadata": {},
     "output_type": "execute_result"
    }
   ],
   "source": [
    "test_data = test_data.fillna(0)\n",
    "test_data.head()"
   ]
  },
  {
   "cell_type": "code",
   "execution_count": 30,
   "metadata": {
    "collapsed": false
   },
   "outputs": [
    {
     "name": "stdout",
     "output_type": "stream",
     "text": [
      "                            OLS Regression Results                            \n",
      "==============================================================================\n",
      "Dep. Variable:              simpleret   R-squared:                       0.068\n",
      "Model:                            OLS   Adj. R-squared:                  0.021\n",
      "Method:                 Least Squares   F-statistic:                     1.440\n",
      "Date:                Mon, 04 Sep 2017   Prob (F-statistic):              0.217\n",
      "Time:                        00:27:18   Log-Likelihood:                 206.88\n",
      "No. Observations:                 104   AIC:                            -401.8\n",
      "Df Residuals:                      98   BIC:                            -385.9\n",
      "Df Model:                           5                                         \n",
      "Covariance Type:            nonrobust                                         \n",
      "================================================================================\n",
      "                   coef    std err          t      P>|t|      [0.025      0.975]\n",
      "--------------------------------------------------------------------------------\n",
      "const           -0.0089      0.038     -0.236      0.814      -0.084       0.066\n",
      "high            -0.0031      0.012     -0.253      0.801      -0.028       0.021\n",
      "close            0.0243      0.019      1.280      0.203      -0.013       0.062\n",
      "low             -0.0213      0.012     -1.711      0.090      -0.046       0.003\n",
      "price_change     0.0386      0.047      0.822      0.413      -0.055       0.132\n",
      "p_change        -0.0095      0.010     -0.933      0.353      -0.030       0.011\n",
      "==============================================================================\n",
      "Omnibus:                        3.306   Durbin-Watson:                   1.949\n",
      "Prob(Omnibus):                  0.191   Jarque-Bera (JB):                2.989\n",
      "Skew:                          -0.210   Prob(JB):                        0.224\n",
      "Kurtosis:                       3.717   Cond. No.                         524.\n",
      "==============================================================================\n",
      "\n",
      "Warnings:\n",
      "[1] Standard Errors assume that the covariance matrix of the errors is correctly specified.\n"
     ]
    }
   ],
   "source": [
    "ret = test_data.simpleret\n",
    "model = sm.OLS(ret,sm.add_constant(test_data.iloc[:,-7:-2])).fit()\n",
    "print(model.summary())"
   ]
  },
  {
   "cell_type": "code",
   "execution_count": null,
   "metadata": {
    "collapsed": true
   },
   "outputs": [],
   "source": []
  }
 ],
 "metadata": {
  "kernelspec": {
   "display_name": "Python 3",
   "language": "python",
   "name": "python3"
  },
  "language_info": {
   "codemirror_mode": {
    "name": "ipython",
    "version": 3
   },
   "file_extension": ".py",
   "mimetype": "text/x-python",
   "name": "python",
   "nbconvert_exporter": "python",
   "pygments_lexer": "ipython3",
   "version": "3.6.0"
  }
 },
 "nbformat": 4,
 "nbformat_minor": 2
}
