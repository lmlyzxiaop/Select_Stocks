{
 "cells": [
  {
   "cell_type": "code",
   "execution_count": 4,
   "metadata": {
    "collapsed": false
   },
   "outputs": [],
   "source": [
    "import tushare as ts\n",
    "import pandas as pd\n",
    "import numpy as np\n",
    "import statsmodels.api as sm\n",
    "from statsmodels import regression\n",
    "import ffn\n",
    "from sklearn.svm import SVR\n",
    "import matplotlib.pyplot as plt"
   ]
  },
  {
   "cell_type": "code",
   "execution_count": 5,
   "metadata": {
    "collapsed": false
   },
   "outputs": [
    {
     "data": {
      "text/html": [
       "<div>\n",
       "<style>\n",
       "    .dataframe thead tr:only-child th {\n",
       "        text-align: right;\n",
       "    }\n",
       "\n",
       "    .dataframe thead th {\n",
       "        text-align: left;\n",
       "    }\n",
       "\n",
       "    .dataframe tbody tr th {\n",
       "        vertical-align: top;\n",
       "    }\n",
       "</style>\n",
       "<table border=\"1\" class=\"dataframe\">\n",
       "  <thead>\n",
       "    <tr style=\"text-align: right;\">\n",
       "      <th></th>\n",
       "      <th>code</th>\n",
       "      <th>name</th>\n",
       "    </tr>\n",
       "  </thead>\n",
       "  <tbody>\n",
       "    <tr>\n",
       "      <th>0</th>\n",
       "      <td>600000</td>\n",
       "      <td>浦发银行</td>\n",
       "    </tr>\n",
       "    <tr>\n",
       "      <th>1</th>\n",
       "      <td>600016</td>\n",
       "      <td>民生银行</td>\n",
       "    </tr>\n",
       "    <tr>\n",
       "      <th>2</th>\n",
       "      <td>600028</td>\n",
       "      <td>中国石化</td>\n",
       "    </tr>\n",
       "    <tr>\n",
       "      <th>3</th>\n",
       "      <td>600029</td>\n",
       "      <td>南方航空</td>\n",
       "    </tr>\n",
       "    <tr>\n",
       "      <th>4</th>\n",
       "      <td>600030</td>\n",
       "      <td>中信证券</td>\n",
       "    </tr>\n",
       "  </tbody>\n",
       "</table>\n",
       "</div>"
      ],
      "text/plain": [
       "     code  name\n",
       "0  600000  浦发银行\n",
       "1  600016  民生银行\n",
       "2  600028  中国石化\n",
       "3  600029  南方航空\n",
       "4  600030  中信证券"
      ]
     },
     "execution_count": 5,
     "metadata": {},
     "output_type": "execute_result"
    }
   ],
   "source": [
    "#获取数据\n",
    "data1 = ts.get_sz50s()\n",
    "data1.head()"
   ]
  },
  {
   "cell_type": "code",
   "execution_count": 6,
   "metadata": {
    "collapsed": false
   },
   "outputs": [
    {
     "data": {
      "text/plain": [
       "0    600000\n",
       "1    600016\n",
       "2    600028\n",
       "3    600029\n",
       "4    600030\n",
       "Name: code, dtype: object"
      ]
     },
     "execution_count": 6,
     "metadata": {},
     "output_type": "execute_result"
    }
   ],
   "source": [
    "#获取股票id\n",
    "stocks_ID = data1.loc[:,'code']\n",
    "stocks_ID.head()\n"
   ]
  },
  {
   "cell_type": "code",
   "execution_count": 7,
   "metadata": {
    "collapsed": false
   },
   "outputs": [],
   "source": [
    "#获取股票2017-3月到6月的股票数据作为训练集 将2017-7月份的数据作为测试集\n",
    "\n",
    "flag  = 1 \n",
    "for i in stocks_ID:\n",
    "    i = str(i)\n",
    "    if flag == 1:\n",
    "        train_data = ts.get_hist_data(i,start='2017-03-01',end='2017-06-30')\n",
    "        test_data = ts.get_hist_data(i,start='2017-07-01',end='2017-08-31')\n",
    "        flag = 0\n",
    "    else:\n",
    "        tmp_data = ts.get_hist_data(i,start='2017-03-01',end='2017-06-30')\n",
    "        tmp1_data = ts.get_hist_data(i,start='2017-07-01',end='2017-08-31')\n",
    "        train_data.append(tmp_data)\n",
    "        test_data.append(tmp1_data)\n",
    "    \n"
   ]
  },
  {
   "cell_type": "code",
   "execution_count": 11,
   "metadata": {
    "collapsed": false
   },
   "outputs": [],
   "source": [
    "#将需要的特征提取出来\n",
    "train_data = train_data.loc[:,['open','high','close','low','price_change','p_change','turnover']]\n",
    "test_data = test_data.loc[:,['open','high','close','low','price_change','p_change','turnover']]"
   ]
  },
  {
   "cell_type": "code",
   "execution_count": 54,
   "metadata": {
    "collapsed": false
   },
   "outputs": [],
   "source": [
    "#计算开盘到收盘之间的价格均值\n",
    "def cal_mean(train_data,test_data):\n",
    "    first_data_open = train_data.loc[:,['open']]\n",
    "    first_data_close = train_data.loc[:,['close']]\n",
    "\n",
    "    second_data_open = test_data.loc[:,['open']]\n",
    "    second_data_close = test_data.loc[:,['close']]\n",
    "    \n",
    "    first_data_open.rename(columns = {'open':'mean'},inplace=True)\n",
    "    first_data_close.rename(columns = {'close':'mean'},inplace=True)\n",
    "    first_data_mean = (first_data_close + first_data_open)/2\n",
    "    \n",
    "    second_data_open.rename(columns = {'open':'mean'},inplace=True)\n",
    "    second_data_close.rename(columns = {'close':'mean'},inplace=True)\n",
    "    second_data_mean = (second_data_close + second_data_open)/2\n",
    "    \n",
    "    train_data['mean'] = first_data_mean\n",
    "    test_data['mean'] = second_data_mean\n",
    "    return train_data,test_data\n",
    "\n",
    "\n"
   ]
  },
  {
   "cell_type": "code",
   "execution_count": 94,
   "metadata": {
    "collapsed": false
   },
   "outputs": [],
   "source": [
    "#计算N期收益\n",
    "def cal_nReturn(train_data, n):\n",
    "    #训练集的N期平均收益率\n",
    "    origin_mean = train_data.loc[:,['mean']]\n",
    "    origin_mean_n = origin_mean.shift(n)\n",
    "    train_simpleret = (origin_mean - origin_mean_n) / origin_mean_n\n",
    "    train_data['n_simpleret'] = train_simpleret\n",
    "    #填充缺失的值\n",
    "    train_data = train_data.fillna(method='bfill')\n",
    "    return train_data\n",
    "    \n",
    "    "
   ]
  },
  {
   "cell_type": "code",
   "execution_count": 95,
   "metadata": {
    "collapsed": false
   },
   "outputs": [
    {
     "data": {
      "text/html": [
       "<div>\n",
       "<style>\n",
       "    .dataframe thead tr:only-child th {\n",
       "        text-align: right;\n",
       "    }\n",
       "\n",
       "    .dataframe thead th {\n",
       "        text-align: left;\n",
       "    }\n",
       "\n",
       "    .dataframe tbody tr th {\n",
       "        vertical-align: top;\n",
       "    }\n",
       "</style>\n",
       "<table border=\"1\" class=\"dataframe\">\n",
       "  <thead>\n",
       "    <tr style=\"text-align: right;\">\n",
       "      <th></th>\n",
       "      <th>open</th>\n",
       "      <th>high</th>\n",
       "      <th>close</th>\n",
       "      <th>low</th>\n",
       "      <th>price_change</th>\n",
       "      <th>p_change</th>\n",
       "      <th>turnover</th>\n",
       "      <th>mean</th>\n",
       "      <th>n_simpleret</th>\n",
       "    </tr>\n",
       "    <tr>\n",
       "      <th>date</th>\n",
       "      <th></th>\n",
       "      <th></th>\n",
       "      <th></th>\n",
       "      <th></th>\n",
       "      <th></th>\n",
       "      <th></th>\n",
       "      <th></th>\n",
       "      <th></th>\n",
       "      <th></th>\n",
       "    </tr>\n",
       "  </thead>\n",
       "  <tbody>\n",
       "    <tr>\n",
       "      <th>2017-06-30</th>\n",
       "      <td>12.7</td>\n",
       "      <td>12.73</td>\n",
       "      <td>12.65</td>\n",
       "      <td>12.59</td>\n",
       "      <td>-0.11</td>\n",
       "      <td>-0.86</td>\n",
       "      <td>0.13</td>\n",
       "      <td>12.675</td>\n",
       "      <td>0.014596</td>\n",
       "    </tr>\n",
       "  </tbody>\n",
       "</table>\n",
       "</div>"
      ],
      "text/plain": [
       "            open   high  close    low  price_change  p_change  turnover  \\\n",
       "date                                                                      \n",
       "2017-06-30  12.7  12.73  12.65  12.59         -0.11     -0.86      0.13   \n",
       "\n",
       "              mean  n_simpleret  \n",
       "date                             \n",
       "2017-06-30  12.675     0.014596  "
      ]
     },
     "execution_count": 95,
     "metadata": {},
     "output_type": "execute_result"
    }
   ],
   "source": [
    "train_data = cal_nReturn(train_data,15)\n",
    "train_data.head(1)"
   ]
  },
  {
   "cell_type": "code",
   "execution_count": 108,
   "metadata": {
    "collapsed": true
   },
   "outputs": [],
   "source": [
    "def Train(train_data,test_data):\n",
    "    #使用scikit-learn导入SVR进行训练和预测\n",
    "    svr_rbf = SVR(kernel='rbf',C=1e3,gamma=0.1)\n",
    "    X = train_data.iloc[:,-9:-2]\n",
    "    X1 = test_data.iloc[:,-8:-1]\n",
    "    y = train_data.iloc[:,-1:]\n",
    "    y_rbf = svr_rbf.fit(X,y).predict(X1)\n",
    "    return y_rbf"
   ]
  },
  {
   "cell_type": "code",
   "execution_count": 109,
   "metadata": {
    "collapsed": false
   },
   "outputs": [
    {
     "name": "stderr",
     "output_type": "stream",
     "text": [
      "E:\\Anaconda\\lib\\site-packages\\sklearn\\utils\\validation.py:547: DataConversionWarning: A column-vector y was passed when a 1d array was expected. Please change the shape of y to (n_samples, ), for example using ravel().\n",
      "  y = column_or_1d(y, warn=True)\n"
     ]
    },
    {
     "data": {
      "text/plain": [
       "array([ 0.0911548 ,  0.11399597,  0.04426155,  0.02975173,  0.00693432,\n",
       "        0.01739646, -0.01277529,  0.00229085, -0.00251794,  0.00084556,\n",
       "       -0.00719296,  0.01689668,  0.0069064 ,  0.03554165,  0.05408975,\n",
       "        0.03561231,  0.09395888,  0.09972601,  0.04523369,  0.16594638,\n",
       "        0.19141191,  0.15584899,  0.10991686,  0.26909686,  0.08168549,\n",
       "        0.16011668,  0.26777435,  0.33024232,  0.03450559,  0.33820559,\n",
       "        0.27847066,  0.06085007,  0.36567636,  0.09337763,  0.05668389,\n",
       "        0.03410035,  0.03620058,  0.00223589,  0.02117017,  0.02943223,\n",
       "        0.00959853, -0.00620927,  0.00368318,  0.02978353])"
      ]
     },
     "execution_count": 109,
     "metadata": {},
     "output_type": "execute_result"
    }
   ],
   "source": [
    "ans = Train(train_data,test_data)\n",
    "ans"
   ]
  },
  {
   "cell_type": "code",
   "execution_count": null,
   "metadata": {
    "collapsed": true
   },
   "outputs": [],
   "source": []
  }
 ],
 "metadata": {
  "kernelspec": {
   "display_name": "Python 3",
   "language": "python",
   "name": "python3"
  },
  "language_info": {
   "codemirror_mode": {
    "name": "ipython",
    "version": 3
   },
   "file_extension": ".py",
   "mimetype": "text/x-python",
   "name": "python",
   "nbconvert_exporter": "python",
   "pygments_lexer": "ipython3",
   "version": "3.6.0"
  }
 },
 "nbformat": 4,
 "nbformat_minor": 2
}
