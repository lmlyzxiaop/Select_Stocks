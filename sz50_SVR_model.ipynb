{
 "cells": [
  {
   "cell_type": "code",
   "execution_count": 11,
   "metadata": {
    "collapsed": false
   },
   "outputs": [],
   "source": [
    "import tushare as ts\n",
    "import pandas as pd\n",
    "import numpy as np\n",
    "import statsmodels.api as sm\n",
    "from statsmodels import regression\n",
    "import ffn\n",
    "from sklearn.svm import SVR\n",
    "import matplotlib.pyplot as plt"
   ]
  },
  {
   "cell_type": "code",
   "execution_count": 12,
   "metadata": {
    "collapsed": false
   },
   "outputs": [],
   "source": [
    "#获取上证50的code\n",
    "def get_stockID():\n",
    "    data1 = ts.get_sz50s()\n",
    "    stocks_ID = data1.loc[:,'code']\n",
    "    return stocks_ID\n"
   ]
  },
  {
   "cell_type": "code",
   "execution_count": 13,
   "metadata": {
    "collapsed": false
   },
   "outputs": [],
   "source": [
    "#获取股票2017-3月到6月的股票数据作为训练集 将2017-7月份的数据作为测试集\n",
    "def init(code):\n",
    "        \n",
    "    train_data = ts.get_hist_data(code,start='2017-03-01',end='2017-06-30')\n",
    "    test_data = ts.get_hist_data(code,start='2017-07-01',end='2017-08-31')\n",
    "           \n",
    "    return train_data,test_data\n"
   ]
  },
  {
   "cell_type": "code",
   "execution_count": 14,
   "metadata": {
    "collapsed": false
   },
   "outputs": [],
   "source": [
    "#将需要的特征提取出来\n",
    "\n",
    "def extract_feature(train_data,test_data):\n",
    "    train_data = train_data.loc[:,['open','high','close','low','price_change','p_change','turnover']]\n",
    "    test_data = test_data.loc[:,['open','high','close','low','price_change','p_change','turnover']]\n",
    "    \n",
    "    return train_data,test_data\n"
   ]
  },
  {
   "cell_type": "code",
   "execution_count": 15,
   "metadata": {
    "collapsed": false
   },
   "outputs": [],
   "source": [
    "#计算开盘到收盘之间的价格均值\n",
    "def cal_mean(train_data,test_data):\n",
    "    first_data_open = train_data.loc[:,['open']]\n",
    "    first_data_close = train_data.loc[:,['close']]\n",
    "\n",
    "    second_data_open = test_data.loc[:,['open']]\n",
    "    second_data_close = test_data.loc[:,['close']]\n",
    "    \n",
    "    first_data_open.rename(columns = {'open':'mean'},inplace=True)\n",
    "    first_data_close.rename(columns = {'close':'mean'},inplace=True)\n",
    "    first_data_mean = (first_data_close + first_data_open)/2\n",
    "    \n",
    "    second_data_open.rename(columns = {'open':'mean'},inplace=True)\n",
    "    second_data_close.rename(columns = {'close':'mean'},inplace=True)\n",
    "    second_data_mean = (second_data_close + second_data_open)/2\n",
    "    \n",
    "    train_data['mean'] = first_data_mean\n",
    "    test_data['mean'] = second_data_mean\n",
    "    return train_data,test_data\n",
    "\n",
    "\n"
   ]
  },
  {
   "cell_type": "code",
   "execution_count": 16,
   "metadata": {
    "collapsed": false
   },
   "outputs": [],
   "source": [
    "#计算N期收益\n",
    "def cal_nReturn(train_data, n):\n",
    "    #训练集的N期平均收益率\n",
    "    origin_mean = train_data.loc[:,['mean']]\n",
    "    origin_mean_n = origin_mean.shift(n)\n",
    "    train_simpleret = (origin_mean - origin_mean_n) / origin_mean_n\n",
    "    train_data['n_simpleret'] = train_simpleret\n",
    "    #填充缺失的值\n",
    "    train_data = train_data.fillna(method='bfill')\n",
    "    return train_data\n",
    "    \n",
    "    "
   ]
  },
  {
   "cell_type": "code",
   "execution_count": 17,
   "metadata": {
    "collapsed": false
   },
   "outputs": [],
   "source": [
    "#训练和预测股票的N期收益\n",
    "def Train(n):\n",
    "    #使用scikit-learn导入SVR进行训练和预测\n",
    "    x_train = []\n",
    "    y_label = []\n",
    "    x_test = []\n",
    "    stocks_ID = get_stockID()\n",
    "    for code in stocks_ID:\n",
    "        train_data,test_data = init(code)\n",
    "        train_data,test_data = extract_feature(train_data,test_data)\n",
    "        train_data,test_data = cal_mean(train_data,test_data)\n",
    "        train_data = cal_nReturn(train_data,n)\n",
    "        svr_rbf = SVR(kernel='rbf',C=1e3,gamma=0.1)\n",
    "        X = train_data.iloc[:,-9:-2]\n",
    "        X1 = test_data.iloc[:,-8:-1]\n",
    "        y = train_data.iloc[:,-1:]\n",
    "        for i in range(len(X)):\n",
    "            x_train.append(list(X.iloc[i]))\n",
    "        for i in range(len(y)):\n",
    "            y_label.append(list(y.iloc[i]))\n",
    "        for i in range(len(X1)):    \n",
    "            x_test.append(list(X1.iloc[i]))\n",
    "        \n",
    "    y_rbf = svr_rbf.fit(x_train,y_label).predict(x_test)\n",
    "    return y_rbf\n",
    "        \n",
    "    "
   ]
  },
  {
   "cell_type": "code",
   "execution_count": 18,
   "metadata": {
    "collapsed": false
   },
   "outputs": [
    {
     "name": "stderr",
     "output_type": "stream",
     "text": [
      "/home/lyz/anaconda2/envs/python3/lib/python3.5/site-packages/sklearn/utils/validation.py:547: DataConversionWarning: A column-vector y was passed when a 1d array was expected. Please change the shape of y to (n_samples, ), for example using ravel().\n",
      "  y = column_or_1d(y, warn=True)\n"
     ]
    },
    {
     "data": {
      "text/plain": [
       "array([-0.01226435,  0.00128179,  0.00536256, ...,  0.05089279,\n",
       "        0.04711263,  0.04966329])"
      ]
     },
     "execution_count": 18,
     "metadata": {},
     "output_type": "execute_result"
    }
   ],
   "source": [
    "ans = Train(15)\n",
    "ans"
   ]
  },
  {
   "cell_type": "code",
   "execution_count": 19,
   "metadata": {
    "collapsed": false
   },
   "outputs": [
    {
     "data": {
      "text/plain": [
       "1989"
      ]
     },
     "execution_count": 19,
     "metadata": {},
     "output_type": "execute_result"
    }
   ],
   "source": [
    "len(ans)"
   ]
  }
 ],
 "metadata": {
  "anaconda-cloud": {},
  "kernelspec": {
   "display_name": "Python [conda env:python3]",
   "language": "python",
   "name": "conda-env-python3-py"
  },
  "language_info": {
   "codemirror_mode": {
    "name": "ipython",
    "version": 3
   },
   "file_extension": ".py",
   "mimetype": "text/x-python",
   "name": "python",
   "nbconvert_exporter": "python",
   "pygments_lexer": "ipython3",
   "version": "3.5.4"
  }
 },
 "nbformat": 4,
 "nbformat_minor": 2
}
