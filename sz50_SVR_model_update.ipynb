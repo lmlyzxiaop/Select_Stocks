{
 "cells": [
  {
   "cell_type": "code",
   "execution_count": 77,
   "metadata": {
    "collapsed": false
   },
   "outputs": [],
   "source": [
    "import tushare as ts\n",
    "import pandas as pd\n",
    "import numpy as np\n",
    "import statsmodels.api as sm\n",
    "from statsmodels import regression\n",
    "import ffn\n",
    "from sklearn.svm import SVR\n",
    "import matplotlib.pyplot as plt\n",
    "from collections import defaultdict\n",
    "import os"
   ]
  },
  {
   "cell_type": "code",
   "execution_count": 57,
   "metadata": {
    "collapsed": true
   },
   "outputs": [],
   "source": [
    "class Model:\n",
    "    \n",
    "    #初始化参数\n",
    "    def __init__(self, data, train_start, train_end, test_start, test_end, n):\n",
    "        \n",
    "        self.code = data['code']\n",
    "        self.train_start = train_start\n",
    "        self.train_end = train_end\n",
    "        self.test_start = test_start\n",
    "        self.test_end = test_end\n",
    "        self.n = n\n",
    "        \n",
    "    #获取单只股票初始训练集和测试集\n",
    "    def getInitData(self, code):\n",
    "        \n",
    "        train_start = self.train_start\n",
    "        train_end = self.train_end\n",
    "        \n",
    "        test_start = self.test_start\n",
    "        test_end = self.test_end\n",
    "        \n",
    "        train_data = ts.get_hist_data(code, start = train_start, end = train_end)\n",
    "        test_data = ts.get_hist_data(code, start = test_start, end = test_end)\n",
    "\n",
    "        train_data = train_data.loc[:,['open','high','close','low','price_change','p_change','turnover']]\n",
    "        test_data = test_data.loc[:,['open','high','close','low','price_change','p_change','turnover']]\n",
    "        \n",
    "        return train_data, test_data\n",
    "    \n",
    "    #训练和预测股票的N期收益\n",
    "    def train(self):\n",
    "        #使用scikit-learn导入SVR进行训练和预测\n",
    "        x_train = []\n",
    "        y_label = []\n",
    "        x_test = []\n",
    "        \n",
    "        for code in self.code:\n",
    "            train_data, test_data = self.getInitData(code)\n",
    "            \n",
    "            #计算特征\n",
    "            '''\n",
    "            以后特征的计算，写在feature的class里即可\n",
    "            '''\n",
    "            feature = Feature(train_data, test_data, self.n)\n",
    "            \n",
    "            \n",
    "            train_data, test_data = feature.cal_mean()\n",
    "            train_data = feature.cal_nReturn(train_data)\n",
    "\n",
    "            svr_rbf = SVR(kernel = 'rbf', C = 1e3, gamma = 0.1)\n",
    "            X = train_data.iloc[:,-9:-2]\n",
    "            X1 = test_data.iloc[:,-8:-1]\n",
    "            y = train_data.iloc[:,-1:]\n",
    "            for i in range(len(X)):\n",
    "                x_train.append(list(X.iloc[i]))\n",
    "            for i in range(len(y)):\n",
    "                y_label.append(list(y.iloc[i]))\n",
    "            for i in range(len(X1)):    \n",
    "                x_test.append(list(X1.iloc[i]))\n",
    "\n",
    "        y_rbf = svr_rbf.fit(x_train,y_label).predict(x_test)\n",
    "        \n",
    "        return y_rbf\n",
    "\n",
    "    #得到预期代码\n",
    "\n",
    "#     def getCode():\n",
    "        \n",
    "#         return \n",
    "        "
   ]
  },
  {
   "cell_type": "code",
   "execution_count": 58,
   "metadata": {
    "collapsed": false
   },
   "outputs": [],
   "source": [
    "class Feature:\n",
    "    \n",
    "    def __init__(self, train_data, test_data, n):\n",
    "        self.train_data = train_data\n",
    "        self.test_data = test_data\n",
    "        self.n = n\n",
    "        \n",
    "    #计算开盘到收盘之间的价格均值\n",
    "    def cal_mean(self):\n",
    "        train_data = self.train_data\n",
    "        test_data = self.test_data\n",
    "        \n",
    "        first_data_open = train_data.loc[:,['open']]\n",
    "        first_data_close = train_data.loc[:,['close']]\n",
    "\n",
    "        second_data_open = test_data.loc[:,['open']]\n",
    "        second_data_close = test_data.loc[:,['close']]\n",
    "\n",
    "        first_data_open.rename(columns = {'open':'mean'},inplace=True)\n",
    "        first_data_close.rename(columns = {'close':'mean'},inplace=True)\n",
    "        first_data_mean = (first_data_close + first_data_open)/2\n",
    "\n",
    "        second_data_open.rename(columns = {'open':'mean'},inplace=True)\n",
    "        second_data_close.rename(columns = {'close':'mean'},inplace=True)\n",
    "        second_data_mean = (second_data_close + second_data_open)/2\n",
    "\n",
    "        train_data['mean'] = first_data_mean\n",
    "        test_data['mean'] = second_data_mean\n",
    "        \n",
    "        return train_data,test_data\n",
    "    \n",
    "    #计算N期收益\n",
    "    def cal_nReturn(self, train_data):\n",
    "        n = self.n\n",
    "        #训练集的N期平均收益率\n",
    "        origin_mean = train_data.loc[:,['mean']]\n",
    "        origin_mean_n = origin_mean.shift(n)\n",
    "        train_simpleret = (origin_mean - origin_mean_n) / origin_mean_n\n",
    "        train_data['n_simpleret'] = train_simpleret\n",
    "        #填充缺失的值\n",
    "        train_data = train_data.fillna(method='bfill')\n",
    "        \n",
    "        return train_data"
   ]
  },
  {
   "cell_type": "code",
   "execution_count": 109,
   "metadata": {
    "collapsed": true
   },
   "outputs": [],
   "source": [
    "class Season_Feature:\n",
    "    \n",
    "    def __init__(self,year,season):\n",
    "        self.year = year\n",
    "        self.season = season\n",
    "    \n",
    "    \n",
    "    \n",
    "        \n",
    "    #基本面数据的处理\n",
    "    #\n",
    "    #将基本面数据中的中文名称hash\n",
    "    def name_to_code(name,data):\n",
    "        d = defaultdict(list)\n",
    "        real_name = []\n",
    "        num = 0\n",
    "        for i in name:\n",
    "            if (not len(d[i])):\n",
    "                d[i].append(num)\n",
    "                num+=1\n",
    "            real_name.append(d[i][0])\n",
    "        text = str(num)\n",
    "        return real_name\n",
    "    \n",
    "    #change_name 默认为基本面数据的列名，可以根据需要修改\n",
    "    def need_change(data,change_name = ['name','industry','area']):\n",
    "        for i in change_name:\n",
    "            name = data[i]\n",
    "            real_name = name_to_code(name,data)\n",
    "            del data[i]\n",
    "            data[i] = real_name\n",
    "        return data\n",
    "    \n",
    "    #获取2017年第二季度的基本面数据\n",
    "    def get_basic(self):\n",
    "        year = self.year\n",
    "        season = self.season\n",
    "        \n",
    "        base = ts.get_stock_basics()\n",
    "        #获取2017年第2季度的业绩报表数据\n",
    "        table1 = ts.get_report_data(year,season)\n",
    "        #获取 2017年第二季度的盈利能力数据\n",
    "        table2 = ts.get_profit_data(year,season)\n",
    "        #获取2017年第2季度的营运能力数据\n",
    "        table3 = ts.get_operation_data(year,season)\n",
    "        #获取2017年第2季度的成长能力数据\n",
    "        table4 = ts.get_growth_data(year,season)\n",
    "        #获取2017年第2季度的偿债能力数据\n",
    "        table5 = ts.get_debtpaying_data(year,season)\n",
    "        #获取2017年第2季度的现金流量数据\n",
    "        table6 = ts.get_cashflow_data(year,season)\n",
    "        \n",
    "        return base,table1,table2,table3,table4,table5,table6\n",
    "    \n",
    "    #将基本面的后6个表按 code，name 和并\n",
    "    def merge_basic(self):\n",
    "        year = self.year\n",
    "        season = self.season\n",
    "        \n",
    "        base,table1,table2,table3,table4,table5,table6 = self.get_basic()\n",
    "        #合并后6个表的数据\n",
    "        result = pd.merge(table1,table2,on=['code','name'])\n",
    "        result = pd.merge(result,table3,on=['code','name'])\n",
    "        result = pd.merge(result,table4,on=['code','name'])\n",
    "        result = pd.merge(result,table5,on=['code','name'])\n",
    "        result = pd.merge(result,table6,on=['code','name'])\n",
    "        #result = result.set_index('code')\n",
    "        #合并前两个表的数据\n",
    "        \n",
    "        return result\n"
   ]
  },
  {
   "cell_type": "code",
   "execution_count": 60,
   "metadata": {
    "collapsed": false
   },
   "outputs": [
    {
     "name": "stdout",
     "output_type": "stream",
     "text": [
      "[-0.01226435  0.00128179  0.00536256 ...,  0.05089279  0.04711263\n",
      "  0.04966329]\n"
     ]
    }
   ],
   "source": [
    "#主函数\n",
    "model = Model(ts.get_sz50s(), '2017-03-01', '2017-06-30', '2017-07-01', '2017-08-31', 15)\n",
    "\n",
    "print (model.train())"
   ]
  },
  {
   "cell_type": "code",
   "execution_count": 110,
   "metadata": {
    "collapsed": false
   },
   "outputs": [
    {
     "name": "stdout",
     "output_type": "stream",
     "text": [
      "[Getting data:]########################################################[Getting data:]########################################################[Getting data:]########################################################[Getting data:]########################################################[Getting data:]########################################################[Getting data:]########################################################"
     ]
    }
   ],
   "source": [
    "season2 = Season_Feature(2017,2)\n",
    "season2 = season2.merge_basic()\n",
    "season2 = season2.drop('name',1)\n",
    "season2.to_csv('2017_season2.csv',sep='\\t',na_rep='NaN',encoding='UTF-8')\n"
   ]
  },
  {
   "cell_type": "code",
   "execution_count": 107,
   "metadata": {
    "collapsed": false
   },
   "outputs": [
    {
     "name": "stdout",
     "output_type": "stream",
     "text": [
      "[Getting data:]#######################################################[Getting data:]#######################################################[Getting data:]#######################################################[Getting data:]#######################################################[Getting data:]#######################################################[Getting data:]#######################################################"
     ]
    }
   ],
   "source": [
    "season1 = Season_Feature(2017,1)\n",
    "season1 = season1.merge_basic()\n",
    "season1 = season1.drop('name',1)\n",
    "#season1 = season1.set_index('code')\n",
    "season1.to_csv('2017_season1.csv',sep='\\t',na_rep='NaN',encoding='UTF-8')"
   ]
  },
  {
   "cell_type": "code",
   "execution_count": 116,
   "metadata": {
    "collapsed": false
   },
   "outputs": [],
   "source": [
    "#获取两个季度股票代码\n",
    "def get_season_codes(season1,season2):\n",
    "    season1_codes = season1['code']\n",
    "    season2_codes = season2['code']\n",
    "    return season1_codes,season2_codes"
   ]
  },
  {
   "cell_type": "code",
   "execution_count": 117,
   "metadata": {
    "collapsed": false
   },
   "outputs": [],
   "source": [
    "season1_codes,season2_codes = get_season_codes(season1,season2)"
   ]
  },
  {
   "cell_type": "code",
   "execution_count": 145,
   "metadata": {
    "collapsed": false
   },
   "outputs": [],
   "source": [
    "test = season1.code"
   ]
  },
  {
   "cell_type": "code",
   "execution_count": 138,
   "metadata": {
    "collapsed": false
   },
   "outputs": [
    {
     "data": {
      "text/html": [
       "<div>\n",
       "<table border=\"1\" class=\"dataframe\">\n",
       "  <thead>\n",
       "    <tr style=\"text-align: right;\">\n",
       "      <th></th>\n",
       "      <th>open</th>\n",
       "      <th>close</th>\n",
       "    </tr>\n",
       "    <tr>\n",
       "      <th>date</th>\n",
       "      <th></th>\n",
       "      <th></th>\n",
       "    </tr>\n",
       "  </thead>\n",
       "  <tbody>\n",
       "    <tr>\n",
       "      <th>2017-03-31</th>\n",
       "      <td>14.41</td>\n",
       "      <td>14.42</td>\n",
       "    </tr>\n",
       "    <tr>\n",
       "      <th>2017-03-30</th>\n",
       "      <td>14.78</td>\n",
       "      <td>14.40</td>\n",
       "    </tr>\n",
       "    <tr>\n",
       "      <th>2017-03-29</th>\n",
       "      <td>14.87</td>\n",
       "      <td>14.79</td>\n",
       "    </tr>\n",
       "    <tr>\n",
       "      <th>2017-03-28</th>\n",
       "      <td>14.88</td>\n",
       "      <td>14.90</td>\n",
       "    </tr>\n",
       "    <tr>\n",
       "      <th>2017-03-27</th>\n",
       "      <td>15.02</td>\n",
       "      <td>14.90</td>\n",
       "    </tr>\n",
       "  </tbody>\n",
       "</table>\n",
       "</div>"
      ],
      "text/plain": [
       "             open  close\n",
       "date                    \n",
       "2017-03-31  14.41  14.42\n",
       "2017-03-30  14.78  14.40\n",
       "2017-03-29  14.87  14.79\n",
       "2017-03-28  14.88  14.90\n",
       "2017-03-27  15.02  14.90"
      ]
     },
     "execution_count": 138,
     "metadata": {},
     "output_type": "execute_result"
    }
   ],
   "source": [
    "#有些股票的第一季度历史数据获取不到\n",
    "data = ts.get_hist_data('600829',start='2017-01-01',end='2017-03-31')\n",
    "data = data.loc[:,['open','close']]\n",
    "data.head()"
   ]
  },
  {
   "cell_type": "code",
   "execution_count": 144,
   "metadata": {
    "collapsed": false
   },
   "outputs": [
    {
     "name": "stdout",
     "output_type": "stream",
     "text": [
      "59\n"
     ]
    }
   ],
   "source": [
    "#获取时间序列\n",
    "season_date = data.index.tolist()\n",
    "print(len(season_date))"
   ]
  },
  {
   "cell_type": "code",
   "execution_count": null,
   "metadata": {
    "collapsed": true
   },
   "outputs": [],
   "source": [
    "#获取季度内股票的历史数据\n",
    "def get_season_hist_data(season_codes,season_start,season_end):\n",
    "    y_label = []\n",
    "    for code in season_codes:\n",
    "        data = ts.get_hist_data(code,season_start,season_end)\n",
    "        #获取需要计算收益的两列数据\n",
    "        \n",
    "        data = data.iloc(['open','close'])\n",
    "        ''''\n",
    "        #需要考虑在当前季度中没有该股票的历史数据的情况\n",
    "        #没有数据无法进行计算，直接抛弃。\n",
    "        '''\n",
    "        \n",
    "        # 获取季度有交易日区间\n",
    "        days = len(data.index.tolist())\n",
    "        \n",
    "        #找出收益率 >=15% 和 收益率 <= -5%的股票并给出对应的y_label\n",
    "        for start in range(1，days):\n",
    "            \n",
    "            for end in range(start+1,days):\n",
    "                #计算收益率\n",
    "                '''\n",
    "                #需要考虑在哪一天入手和哪一天出手 达到了设置的要求\n",
    "                \n",
    "                '''\n",
    "                \n",
    "            \n",
    "        \n",
    "        "
   ]
  }
 ],
 "metadata": {
  "kernelspec": {
   "display_name": "Python 2",
   "language": "python",
   "name": "python2"
  },
  "language_info": {
   "codemirror_mode": {
    "name": "ipython",
    "version": 2
   },
   "file_extension": ".py",
   "mimetype": "text/x-python",
   "name": "python",
   "nbconvert_exporter": "python",
   "pygments_lexer": "ipython2",
   "version": "2.7.13"
  }
 },
 "nbformat": 4,
 "nbformat_minor": 2
}
